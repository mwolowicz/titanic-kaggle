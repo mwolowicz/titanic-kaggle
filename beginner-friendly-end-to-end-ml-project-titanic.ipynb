{
 "cells": [
  {
   "cell_type": "markdown",
   "id": "3ba84d5d",
   "metadata": {
    "papermill": {
     "duration": 0.014722,
     "end_time": "2023-03-24T10:39:39.272590",
     "exception": false,
     "start_time": "2023-03-24T10:39:39.257868",
     "status": "completed"
    },
    "tags": []
   },
   "source": [
    "# End-to-end ML project walkthrough: Titanic\n",
    "\n",
    "The goal of this notebook is to build an end-to-end Machine Learning project and outline core steps in building and training machine learning model.\n",
    "\n",
    "## Machine Learning Project Checklist\n",
    "> This list is based on a list available in ['Hands-On Machine Learning with scikit-learn, TensorFlow and Keras'](https://www.oreilly.com/library/view/hands-on-machine-learning/9781492032632/) by Aurelien Geron.\n",
    "1. Frame the problem and look at the big picture \n",
    "2. Get the data\n",
    "3. Explore the data to gain insights\n",
    "4. Prepare the data to better expose the underlying data patterns to Machine Learning algorithms\n",
    "5. Explore many different models and find the best ones.\n",
    "6. Fine-tune your models and combine them (ensamble models) into a great solution.\n",
    "7. Present your solution\n",
    "8. Launch, monitor and maintain your system"
   ]
  },
  {
   "cell_type": "code",
   "execution_count": 1,
   "id": "a1f66f7b",
   "metadata": {
    "_cell_guid": "b1076dfc-b9ad-4769-8c92-a6c4dae69d19",
    "_uuid": "8f2839f25d086af736a60e9eeb907d3b93b6e0e5",
    "execution": {
     "iopub.execute_input": "2023-03-24T10:39:39.301612Z",
     "iopub.status.busy": "2023-03-24T10:39:39.300821Z",
     "iopub.status.idle": "2023-03-24T10:39:40.603766Z",
     "shell.execute_reply": "2023-03-24T10:39:40.602413Z"
    },
    "papermill": {
     "duration": 1.320652,
     "end_time": "2023-03-24T10:39:40.606640",
     "exception": false,
     "start_time": "2023-03-24T10:39:39.285988",
     "status": "completed"
    },
    "tags": []
   },
   "outputs": [
    {
     "name": "stdout",
     "output_type": "stream",
     "text": [
      "/kaggle/input/titanic/train.csv\n",
      "/kaggle/input/titanic/test.csv\n",
      "/kaggle/input/titanic/gender_submission.csv\n"
     ]
    }
   ],
   "source": [
    "# This Python 3 environment comes with many helpful analytics libraries installed\n",
    "# It is defined by the kaggle/python Docker image: https://github.com/kaggle/docker-python\n",
    "# For example, here's several helpful packages to load\n",
    "\n",
    "import numpy as np # linear algebra\n",
    "import pandas as pd # data processing, CSV file I/O (e.g. pd.read_csv)\n",
    "import matplotlib.pyplot as plt\n",
    "import seaborn as sns\n",
    "# Input data files are available in the read-only \"../input/\" directory\n",
    "# For example, running this (by clicking run or pressing Shift+Enter) will list all files under the input directory\n",
    "\n",
    "import os\n",
    "for dirname, _, filenames in os.walk('/kaggle/input'):\n",
    "    for filename in filenames:\n",
    "        print(os.path.join(dirname, filename))\n",
    "\n",
    "# You can write up to 20GB to the current directory (/kaggle/working/) that gets preserved as output when you create a version using \"Save & Run All\" \n",
    "# You can also write temporary files to /kaggle/temp/, but they won't be saved outside of the current session"
   ]
  },
  {
   "cell_type": "markdown",
   "id": "db408413",
   "metadata": {
    "papermill": {
     "duration": 0.01323,
     "end_time": "2023-03-24T10:39:40.633321",
     "exception": false,
     "start_time": "2023-03-24T10:39:40.620091",
     "status": "completed"
    },
    "tags": []
   },
   "source": [
    "## Step 1: Frame the Problem and look at big picture\n",
    "1. Define the objective in business terms.\n",
    "    - the goal to use a set of features provided to solve a binary classification problem and attempt to predict which of the Titanic's passengers are most likely to survive\n",
    "2. How will your solution be used?\n",
    "    - To perform a one-off prediction of surivors on the Titanic ship\n",
    "3. What are the current solutions/workarounds (if any)?\n",
    "    - N/A - there are other people's notebooks online, but we're trying to learn ourselves\n",
    "4. How should you frame this problem (supervised/unsupervised, online/offline, etc.)?\n",
    "    - Supervised - dataset provides labeled inputs and outputs\n",
    "    - Classification problem - predicted value is categorical (survived - 1/not survived - 0) - *Binary Classification*\n",
    "    - batch learning - the entire model will be trained at once, there won't be any extra data fed to the model afterwards\n",
    "5. How should performance be measured?\n",
    "    - using conventional approach for such problem when testing the model - RMSE/MAE \n",
    "    - the submission will be evaluated using *accuracy* - percentage of correct predictions\n",
    "    - ![accuracy](https://wikimedia.org/api/rest_v1/media/math/render/svg/7bfe40cea126a04004b82f729cf7df1ec435fbf6)\n",
    "6. Is the performance measure aligned with the business objective?\n",
    "7. What would be the minimum performance needed to reach the business objective?\n",
    "    - N/A - the higher the better, although a personal goal would be to reach >80% accuracy on the final submission\n",
    "8. What are comparable problems? Can you reuse experience or tools?\n",
    "    - other people's notebooks (**don't be afraid to look for ideas there**)\n",
    "    - [Spaceship Titanic Competition](https://www.kaggle.com/competitions/spaceship-titanic)\n",
    "    - any notebooks/code snippets you have previously written\n",
    "9. Is human expertise available?\n",
    "    - There are other notebooks available on Kaggle, as well as detailed Youtube guides for this project. \n",
    "10. How would you solve the problem manually?\n",
    "    - manually identify features most correlated with passenger surviving, \n",
    "        - try to plot them on a scatter plot, manually fit linear regression line\n",
    "        - based on correlation of each feature manually calculate the probability of each passenger surviving and test it with labeled data to see if assumptions were correct\n",
    "        - try to engineer more suitable features and repeat previous steps\n",
    "11. List the assumptions you (or others) have made so far.\n",
    "    1. women are more likely to survive than men\n",
    "    2. higher class passengers are more likely to survive\n",
    "    3. <del>due to location on the ship passenger's cabin may have an impact on their survival rate, but not to the same extent as previous 2 assumption. </del>\n",
    "    4. Port of Embarkation has no impact on survival\n",
    "    5. younger passenger (especially kids) are more likely to survive\n",
    "    6. family members have a higher survival rate\n",
    "12. Verify assumptions if possible (done after step 3).\n"
   ]
  },
  {
   "cell_type": "markdown",
   "id": "d052d986",
   "metadata": {
    "papermill": {
     "duration": 0.013019,
     "end_time": "2023-03-24T10:39:40.661196",
     "exception": false,
     "start_time": "2023-03-24T10:39:40.648177",
     "status": "completed"
    },
    "tags": []
   },
   "source": [
    "## Step 2: Get the data\n",
    "**NOTE:** Automate as much as possible so you can easily get fresh data\n",
    "1. [X] List the data you need and how much you need.\n",
    "    - test set\n",
    "    - training set\n",
    "    - (optional) example submission\n",
    "2. [X] Find and document where you can get that data.\n",
    "    - Titanic Competition on Kaggle\n",
    "3. [X] Check how much space it will take.\n",
    "    - <100kB\n",
    "4. [X] Check legal obligations, and get authorization if necessary.\n",
    "    - N/A\n",
    "5. [X] Get access authorizations.\n",
    "    - N/A\n",
    "6. [X] Create a workspace (with enough storage space).\n",
    "7. [X] Get the data.\n",
    "8. [X] Convert the data to a format you can easily manipulate (without changing the data itself).\n",
    "    - Data is already in such format\n",
    "9. [X] Ensure sensitive information is deleted or protected (e.g., anonymized)\n",
    "    - N/A\n",
    "10. [X] Check the size and type of data (time series, sample, geographical, etc.).\n",
    "11. [X] Sample a test set, put it aside, and never look at it (no data snooping!)\n",
    "    - This is already done in test.csv, optionally you can split the train set.\n"
   ]
  },
  {
   "cell_type": "code",
   "execution_count": 2,
   "id": "9d0345f0",
   "metadata": {
    "execution": {
     "iopub.execute_input": "2023-03-24T10:39:40.690704Z",
     "iopub.status.busy": "2023-03-24T10:39:40.689972Z",
     "iopub.status.idle": "2023-03-24T10:39:40.717662Z",
     "shell.execute_reply": "2023-03-24T10:39:40.716434Z"
    },
    "papermill": {
     "duration": 0.045961,
     "end_time": "2023-03-24T10:39:40.720465",
     "exception": false,
     "start_time": "2023-03-24T10:39:40.674504",
     "status": "completed"
    },
    "tags": []
   },
   "outputs": [],
   "source": [
    "df = pd.read_csv(\"/kaggle/input/titanic/train.csv\")\n",
    "df_test = pd.read_csv(\"/kaggle/input/titanic/test.csv\")"
   ]
  },
  {
   "cell_type": "code",
   "execution_count": 3,
   "id": "ec7acbd6",
   "metadata": {
    "execution": {
     "iopub.execute_input": "2023-03-24T10:39:40.751331Z",
     "iopub.status.busy": "2023-03-24T10:39:40.750019Z",
     "iopub.status.idle": "2023-03-24T10:39:40.783290Z",
     "shell.execute_reply": "2023-03-24T10:39:40.781742Z"
    },
    "papermill": {
     "duration": 0.052331,
     "end_time": "2023-03-24T10:39:40.786369",
     "exception": false,
     "start_time": "2023-03-24T10:39:40.734038",
     "status": "completed"
    },
    "tags": []
   },
   "outputs": [
    {
     "data": {
      "text/html": [
       "<div>\n",
       "<style scoped>\n",
       "    .dataframe tbody tr th:only-of-type {\n",
       "        vertical-align: middle;\n",
       "    }\n",
       "\n",
       "    .dataframe tbody tr th {\n",
       "        vertical-align: top;\n",
       "    }\n",
       "\n",
       "    .dataframe thead th {\n",
       "        text-align: right;\n",
       "    }\n",
       "</style>\n",
       "<table border=\"1\" class=\"dataframe\">\n",
       "  <thead>\n",
       "    <tr style=\"text-align: right;\">\n",
       "      <th></th>\n",
       "      <th>PassengerId</th>\n",
       "      <th>Survived</th>\n",
       "      <th>Pclass</th>\n",
       "      <th>Name</th>\n",
       "      <th>Sex</th>\n",
       "      <th>Age</th>\n",
       "      <th>SibSp</th>\n",
       "      <th>Parch</th>\n",
       "      <th>Ticket</th>\n",
       "      <th>Fare</th>\n",
       "      <th>Cabin</th>\n",
       "      <th>Embarked</th>\n",
       "    </tr>\n",
       "  </thead>\n",
       "  <tbody>\n",
       "    <tr>\n",
       "      <th>0</th>\n",
       "      <td>1</td>\n",
       "      <td>0</td>\n",
       "      <td>3</td>\n",
       "      <td>Braund, Mr. Owen Harris</td>\n",
       "      <td>male</td>\n",
       "      <td>22.0</td>\n",
       "      <td>1</td>\n",
       "      <td>0</td>\n",
       "      <td>A/5 21171</td>\n",
       "      <td>7.2500</td>\n",
       "      <td>NaN</td>\n",
       "      <td>S</td>\n",
       "    </tr>\n",
       "    <tr>\n",
       "      <th>1</th>\n",
       "      <td>2</td>\n",
       "      <td>1</td>\n",
       "      <td>1</td>\n",
       "      <td>Cumings, Mrs. John Bradley (Florence Briggs Th...</td>\n",
       "      <td>female</td>\n",
       "      <td>38.0</td>\n",
       "      <td>1</td>\n",
       "      <td>0</td>\n",
       "      <td>PC 17599</td>\n",
       "      <td>71.2833</td>\n",
       "      <td>C85</td>\n",
       "      <td>C</td>\n",
       "    </tr>\n",
       "    <tr>\n",
       "      <th>2</th>\n",
       "      <td>3</td>\n",
       "      <td>1</td>\n",
       "      <td>3</td>\n",
       "      <td>Heikkinen, Miss. Laina</td>\n",
       "      <td>female</td>\n",
       "      <td>26.0</td>\n",
       "      <td>0</td>\n",
       "      <td>0</td>\n",
       "      <td>STON/O2. 3101282</td>\n",
       "      <td>7.9250</td>\n",
       "      <td>NaN</td>\n",
       "      <td>S</td>\n",
       "    </tr>\n",
       "    <tr>\n",
       "      <th>3</th>\n",
       "      <td>4</td>\n",
       "      <td>1</td>\n",
       "      <td>1</td>\n",
       "      <td>Futrelle, Mrs. Jacques Heath (Lily May Peel)</td>\n",
       "      <td>female</td>\n",
       "      <td>35.0</td>\n",
       "      <td>1</td>\n",
       "      <td>0</td>\n",
       "      <td>113803</td>\n",
       "      <td>53.1000</td>\n",
       "      <td>C123</td>\n",
       "      <td>S</td>\n",
       "    </tr>\n",
       "    <tr>\n",
       "      <th>4</th>\n",
       "      <td>5</td>\n",
       "      <td>0</td>\n",
       "      <td>3</td>\n",
       "      <td>Allen, Mr. William Henry</td>\n",
       "      <td>male</td>\n",
       "      <td>35.0</td>\n",
       "      <td>0</td>\n",
       "      <td>0</td>\n",
       "      <td>373450</td>\n",
       "      <td>8.0500</td>\n",
       "      <td>NaN</td>\n",
       "      <td>S</td>\n",
       "    </tr>\n",
       "  </tbody>\n",
       "</table>\n",
       "</div>"
      ],
      "text/plain": [
       "   PassengerId  Survived  Pclass  \\\n",
       "0            1         0       3   \n",
       "1            2         1       1   \n",
       "2            3         1       3   \n",
       "3            4         1       1   \n",
       "4            5         0       3   \n",
       "\n",
       "                                                Name     Sex   Age  SibSp  \\\n",
       "0                            Braund, Mr. Owen Harris    male  22.0      1   \n",
       "1  Cumings, Mrs. John Bradley (Florence Briggs Th...  female  38.0      1   \n",
       "2                             Heikkinen, Miss. Laina  female  26.0      0   \n",
       "3       Futrelle, Mrs. Jacques Heath (Lily May Peel)  female  35.0      1   \n",
       "4                           Allen, Mr. William Henry    male  35.0      0   \n",
       "\n",
       "   Parch            Ticket     Fare Cabin Embarked  \n",
       "0      0         A/5 21171   7.2500   NaN        S  \n",
       "1      0          PC 17599  71.2833   C85        C  \n",
       "2      0  STON/O2. 3101282   7.9250   NaN        S  \n",
       "3      0            113803  53.1000  C123        S  \n",
       "4      0            373450   8.0500   NaN        S  "
      ]
     },
     "execution_count": 3,
     "metadata": {},
     "output_type": "execute_result"
    }
   ],
   "source": [
    "df.head(5)"
   ]
  },
  {
   "cell_type": "markdown",
   "id": "b9f465e2",
   "metadata": {
    "papermill": {
     "duration": 0.013605,
     "end_time": "2023-03-24T10:39:40.814245",
     "exception": false,
     "start_time": "2023-03-24T10:39:40.800640",
     "status": "completed"
    },
    "tags": []
   },
   "source": [
    "## Step 3: Explore the data to gain insights\n",
    "**NOTE:** try to get insights from a field exper for these steps\n",
    "1.\tCreate a copy of the data for exploration (sampling it down to a managable size if necessary).\n",
    "2.\tCreate a Jupyter notebook to keep a record of your data exploration.\n",
    "3.\tStudy each attribute and its characteristics: \n",
    "    - name\n",
    "    - Type (categorical, int/float, bounded/unbounded, text, structured, etc.)\n",
    "    - % of missing values\n",
    "    - Noisiness and type of noise (stochastic, outliers, rounding errors, etc.)\n",
    "    - Usefulness for the task\n",
    "    - Type of distribution (Gaussian, uniform, logarithmic (log_transform), etc.)\n",
    "4.\tFor supervised learning tasks, identify the target attribute(s).\n",
    "5.\tVisualize the data.\n",
    "6.\tStudy the correlations between attributes.\n",
    "7.\tStudy how you would solve the problem manually\n",
    "8.\tIdentify the promising transformations you may want to apply.\n",
    "9.\tIdentify extra data that would be useful (go back to ‘Get the data’ step).\n",
    "10.\t***Document what you have learned***.\n"
   ]
  },
  {
   "cell_type": "code",
   "execution_count": 4,
   "id": "60fb8c30",
   "metadata": {
    "execution": {
     "iopub.execute_input": "2023-03-24T10:39:40.844975Z",
     "iopub.status.busy": "2023-03-24T10:39:40.844138Z",
     "iopub.status.idle": "2023-03-24T10:39:40.853556Z",
     "shell.execute_reply": "2023-03-24T10:39:40.852103Z"
    },
    "papermill": {
     "duration": 0.028019,
     "end_time": "2023-03-24T10:39:40.856284",
     "exception": false,
     "start_time": "2023-03-24T10:39:40.828265",
     "status": "completed"
    },
    "tags": []
   },
   "outputs": [],
   "source": [
    "#create a copy of the dataset to explore\n",
    "df_copy = df.drop('Cabin', axis=1).copy()"
   ]
  },
  {
   "cell_type": "code",
   "execution_count": 5,
   "id": "e0cffea9",
   "metadata": {
    "execution": {
     "iopub.execute_input": "2023-03-24T10:39:40.886511Z",
     "iopub.status.busy": "2023-03-24T10:39:40.885516Z",
     "iopub.status.idle": "2023-03-24T10:39:40.895008Z",
     "shell.execute_reply": "2023-03-24T10:39:40.893750Z"
    },
    "papermill": {
     "duration": 0.02743,
     "end_time": "2023-03-24T10:39:40.897547",
     "exception": false,
     "start_time": "2023-03-24T10:39:40.870117",
     "status": "completed"
    },
    "tags": []
   },
   "outputs": [
    {
     "data": {
      "text/plain": [
       "PassengerId      int64\n",
       "Survived         int64\n",
       "Pclass           int64\n",
       "Name            object\n",
       "Sex             object\n",
       "Age            float64\n",
       "SibSp            int64\n",
       "Parch            int64\n",
       "Ticket          object\n",
       "Fare           float64\n",
       "Embarked        object\n",
       "dtype: object"
      ]
     },
     "execution_count": 5,
     "metadata": {},
     "output_type": "execute_result"
    }
   ],
   "source": [
    "#check underlying data types\n",
    "df_copy.dtypes"
   ]
  },
  {
   "cell_type": "code",
   "execution_count": 6,
   "id": "4a499bae",
   "metadata": {
    "execution": {
     "iopub.execute_input": "2023-03-24T10:39:40.927500Z",
     "iopub.status.busy": "2023-03-24T10:39:40.926708Z",
     "iopub.status.idle": "2023-03-24T10:39:40.945491Z",
     "shell.execute_reply": "2023-03-24T10:39:40.944290Z"
    },
    "papermill": {
     "duration": 0.03686,
     "end_time": "2023-03-24T10:39:40.948300",
     "exception": false,
     "start_time": "2023-03-24T10:39:40.911440",
     "status": "completed"
    },
    "tags": []
   },
   "outputs": [
    {
     "data": {
      "text/html": [
       "<div>\n",
       "<style scoped>\n",
       "    .dataframe tbody tr th:only-of-type {\n",
       "        vertical-align: middle;\n",
       "    }\n",
       "\n",
       "    .dataframe tbody tr th {\n",
       "        vertical-align: top;\n",
       "    }\n",
       "\n",
       "    .dataframe thead th {\n",
       "        text-align: right;\n",
       "    }\n",
       "</style>\n",
       "<table border=\"1\" class=\"dataframe\">\n",
       "  <thead>\n",
       "    <tr style=\"text-align: right;\">\n",
       "      <th></th>\n",
       "      <th>PassengerId</th>\n",
       "      <th>Survived</th>\n",
       "      <th>Pclass</th>\n",
       "      <th>Name</th>\n",
       "      <th>Sex</th>\n",
       "      <th>Age</th>\n",
       "      <th>SibSp</th>\n",
       "      <th>Parch</th>\n",
       "      <th>Ticket</th>\n",
       "      <th>Fare</th>\n",
       "      <th>Embarked</th>\n",
       "    </tr>\n",
       "  </thead>\n",
       "  <tbody>\n",
       "    <tr>\n",
       "      <th>5</th>\n",
       "      <td>6</td>\n",
       "      <td>0</td>\n",
       "      <td>3</td>\n",
       "      <td>Moran, Mr. James</td>\n",
       "      <td>male</td>\n",
       "      <td>NaN</td>\n",
       "      <td>0</td>\n",
       "      <td>0</td>\n",
       "      <td>330877</td>\n",
       "      <td>8.4583</td>\n",
       "      <td>Q</td>\n",
       "    </tr>\n",
       "    <tr>\n",
       "      <th>17</th>\n",
       "      <td>18</td>\n",
       "      <td>1</td>\n",
       "      <td>2</td>\n",
       "      <td>Williams, Mr. Charles Eugene</td>\n",
       "      <td>male</td>\n",
       "      <td>NaN</td>\n",
       "      <td>0</td>\n",
       "      <td>0</td>\n",
       "      <td>244373</td>\n",
       "      <td>13.0000</td>\n",
       "      <td>S</td>\n",
       "    </tr>\n",
       "    <tr>\n",
       "      <th>19</th>\n",
       "      <td>20</td>\n",
       "      <td>1</td>\n",
       "      <td>3</td>\n",
       "      <td>Masselmani, Mrs. Fatima</td>\n",
       "      <td>female</td>\n",
       "      <td>NaN</td>\n",
       "      <td>0</td>\n",
       "      <td>0</td>\n",
       "      <td>2649</td>\n",
       "      <td>7.2250</td>\n",
       "      <td>C</td>\n",
       "    </tr>\n",
       "    <tr>\n",
       "      <th>26</th>\n",
       "      <td>27</td>\n",
       "      <td>0</td>\n",
       "      <td>3</td>\n",
       "      <td>Emir, Mr. Farred Chehab</td>\n",
       "      <td>male</td>\n",
       "      <td>NaN</td>\n",
       "      <td>0</td>\n",
       "      <td>0</td>\n",
       "      <td>2631</td>\n",
       "      <td>7.2250</td>\n",
       "      <td>C</td>\n",
       "    </tr>\n",
       "    <tr>\n",
       "      <th>28</th>\n",
       "      <td>29</td>\n",
       "      <td>1</td>\n",
       "      <td>3</td>\n",
       "      <td>O'Dwyer, Miss. Ellen \"Nellie\"</td>\n",
       "      <td>female</td>\n",
       "      <td>NaN</td>\n",
       "      <td>0</td>\n",
       "      <td>0</td>\n",
       "      <td>330959</td>\n",
       "      <td>7.8792</td>\n",
       "      <td>Q</td>\n",
       "    </tr>\n",
       "  </tbody>\n",
       "</table>\n",
       "</div>"
      ],
      "text/plain": [
       "    PassengerId  Survived  Pclass                           Name     Sex  Age  \\\n",
       "5             6         0       3               Moran, Mr. James    male  NaN   \n",
       "17           18         1       2   Williams, Mr. Charles Eugene    male  NaN   \n",
       "19           20         1       3        Masselmani, Mrs. Fatima  female  NaN   \n",
       "26           27         0       3        Emir, Mr. Farred Chehab    male  NaN   \n",
       "28           29         1       3  O'Dwyer, Miss. Ellen \"Nellie\"  female  NaN   \n",
       "\n",
       "    SibSp  Parch  Ticket     Fare Embarked  \n",
       "5       0      0  330877   8.4583        Q  \n",
       "17      0      0  244373  13.0000        S  \n",
       "19      0      0    2649   7.2250        C  \n",
       "26      0      0    2631   7.2250        C  \n",
       "28      0      0  330959   7.8792        Q  "
      ]
     },
     "execution_count": 6,
     "metadata": {},
     "output_type": "execute_result"
    }
   ],
   "source": [
    "#check for NaNs in the dataset\n",
    "df_copy[df_copy.isnull().any(1)].head()"
   ]
  },
  {
   "cell_type": "code",
   "execution_count": 7,
   "id": "01358240",
   "metadata": {
    "execution": {
     "iopub.execute_input": "2023-03-24T10:39:40.979485Z",
     "iopub.status.busy": "2023-03-24T10:39:40.978691Z",
     "iopub.status.idle": "2023-03-24T10:39:42.532308Z",
     "shell.execute_reply": "2023-03-24T10:39:42.531293Z"
    },
    "papermill": {
     "duration": 1.57178,
     "end_time": "2023-03-24T10:39:42.534813",
     "exception": false,
     "start_time": "2023-03-24T10:39:40.963033",
     "status": "completed"
    },
    "tags": []
   },
   "outputs": [
    {
     "data": {
      "image/png": "[encoded data removed]",
      "text/plain": [
       "<Figure size 2000x1500 with 6 Axes>"
      ]
     },
     "metadata": {},
     "output_type": "display_data"
    }
   ],
   "source": [
    "#plot a histogram to check feature distribution\n",
    "%matplotlib inline\n",
    "df_copy[['Survived', 'Pclass', 'Age', 'SibSp', 'Parch', 'Fare']].hist(bins=50, figsize=(20,15))\n",
    "plt.show()"
   ]
  },
  {
   "cell_type": "code",
   "execution_count": 8,
   "id": "08cb76ce",
   "metadata": {
    "execution": {
     "iopub.execute_input": "2023-03-24T10:39:42.567901Z",
     "iopub.status.busy": "2023-03-24T10:39:42.567447Z",
     "iopub.status.idle": "2023-03-24T10:39:42.752416Z",
     "shell.execute_reply": "2023-03-24T10:39:42.751246Z"
    },
    "papermill": {
     "duration": 0.20443,
     "end_time": "2023-03-24T10:39:42.755020",
     "exception": false,
     "start_time": "2023-03-24T10:39:42.550590",
     "status": "completed"
    },
    "tags": []
   },
   "outputs": [
    {
     "data": {
      "text/plain": [
       "<AxesSubplot:>"
      ]
     },
     "execution_count": 8,
     "metadata": {},
     "output_type": "execute_result"
    },
    {
     "data": {
      "image/png": "[encoded data removed]",
      "text/plain": [
       "<Figure size 640x480 with 1 Axes>"
      ]
     },
     "metadata": {},
     "output_type": "display_data"
    }
   ],
   "source": [
    "#verify the assumption A: 'women are more likely to surive than men'\n",
    "df_copy[df_copy['Survived']==1].Sex.value_counts().plot(kind='bar')"
   ]
  },
  {
   "cell_type": "code",
   "execution_count": 9,
   "id": "eb18a308",
   "metadata": {
    "execution": {
     "iopub.execute_input": "2023-03-24T10:39:42.788583Z",
     "iopub.status.busy": "2023-03-24T10:39:42.787905Z",
     "iopub.status.idle": "2023-03-24T10:39:42.990315Z",
     "shell.execute_reply": "2023-03-24T10:39:42.989040Z"
    },
    "papermill": {
     "duration": 0.222462,
     "end_time": "2023-03-24T10:39:42.993204",
     "exception": false,
     "start_time": "2023-03-24T10:39:42.770742",
     "status": "completed"
    },
    "tags": []
   },
   "outputs": [
    {
     "data": {
      "text/plain": [
       "<AxesSubplot:>"
      ]
     },
     "execution_count": 9,
     "metadata": {},
     "output_type": "execute_result"
    },
    {
     "data": {
      "image/png": "[encoded data removed]",
      "text/plain": [
       "<Figure size 640x480 with 1 Axes>"
      ]
     },
     "metadata": {},
     "output_type": "display_data"
    }
   ],
   "source": [
    "#as a proportion of total almost 80% of women survived as opposed to just 20% of men\n",
    "(df_copy[df_copy['Survived']==1]['Sex'].value_counts() / df_copy['Sex'].value_counts()).plot(kind='bar')"
   ]
  },
  {
   "cell_type": "code",
   "execution_count": 10,
   "id": "05c96263",
   "metadata": {
    "execution": {
     "iopub.execute_input": "2023-03-24T10:39:43.027265Z",
     "iopub.status.busy": "2023-03-24T10:39:43.026830Z",
     "iopub.status.idle": "2023-03-24T10:39:43.289484Z",
     "shell.execute_reply": "2023-03-24T10:39:43.288068Z"
    },
    "papermill": {
     "duration": 0.28332,
     "end_time": "2023-03-24T10:39:43.292664",
     "exception": false,
     "start_time": "2023-03-24T10:39:43.009344",
     "status": "completed"
    },
    "tags": []
   },
   "outputs": [
    {
     "data": {
      "text/plain": [
       "(array([[136.,   0.,   0.,   0.,   0.,  87.,   0.,   0.,   0., 119.],\n",
       "        [ 80.,   0.,   0.,   0.,   0.,  97.,   0.,   0.,   0., 372.]]),\n",
       " array([1. , 1.2, 1.4, 1.6, 1.8, 2. , 2.2, 2.4, 2.6, 2.8, 3. ]),\n",
       " <a list of 2 BarContainer objects>)"
      ]
     },
     "execution_count": 10,
     "metadata": {},
     "output_type": "execute_result"
    },
    {
     "data": {
      "image/png": "[encoded data removed]",
      "text/plain": [
       "<Figure size 640x480 with 1 Axes>"
      ]
     },
     "metadata": {},
     "output_type": "display_data"
    }
   ],
   "source": [
    "#verify assumption B: 'higher class passengers are more likely to survive'\n",
    "plt.hist([df_copy[df_copy['Survived']==1]['Pclass'], df_copy[df_copy['Survived']==0]['Pclass']], color=['g','r'])"
   ]
  },
  {
   "cell_type": "code",
   "execution_count": 11,
   "id": "8c6276eb",
   "metadata": {
    "execution": {
     "iopub.execute_input": "2023-03-24T10:39:43.329736Z",
     "iopub.status.busy": "2023-03-24T10:39:43.328998Z",
     "iopub.status.idle": "2023-03-24T10:39:43.687890Z",
     "shell.execute_reply": "2023-03-24T10:39:43.686400Z"
    },
    "papermill": {
     "duration": 0.380708,
     "end_time": "2023-03-24T10:39:43.690708",
     "exception": false,
     "start_time": "2023-03-24T10:39:43.310000",
     "status": "completed"
    },
    "tags": []
   },
   "outputs": [
    {
     "data": {
      "text/plain": [
       "(array([[ 93.,   0.,   0.,   0.,   0., 217.,   0.,   0.,   0.,  30.],\n",
       "        [ 75.,   0.,   0.,   0.,   0., 427.,   0.,   0.,   0.,  47.]]),\n",
       " array([0. , 0.2, 0.4, 0.6, 0.8, 1. , 1.2, 1.4, 1.6, 1.8, 2. ]),\n",
       " <a list of 2 BarContainer objects>)"
      ]
     },
     "execution_count": 11,
     "metadata": {},
     "output_type": "execute_result"
    },
    {
     "data": {
      "image/png": "[encoded data removed]",
      "text/plain": [
       "<Figure size 640x480 with 1 Axes>"
      ]
     },
     "metadata": {},
     "output_type": "display_data"
    }
   ],
   "source": [
    "#plotting survival rate for assumption D: 'Port of Embarkation has no impact on survival rate'\n",
    "df_copy['Embarked'] = df_copy['Embarked'].astype('string')\n",
    "df_copy.dtypes\n",
    "df_copy[pd.isna(df_copy['Embarked'])]\n",
    "df_copy.dropna(subset=['Embarked'], inplace=True)\n",
    "#df_copy.head()\n",
    "plt.hist([df_copy[df_copy['Survived']==1]['Embarked'], df_copy[df_copy['Survived']==0]['Embarked']], color=['g','r'])"
   ]
  },
  {
   "cell_type": "code",
   "execution_count": 12,
   "id": "e88d8770",
   "metadata": {
    "execution": {
     "iopub.execute_input": "2023-03-24T10:39:43.726330Z",
     "iopub.status.busy": "2023-03-24T10:39:43.725907Z",
     "iopub.status.idle": "2023-03-24T10:39:43.739319Z",
     "shell.execute_reply": "2023-03-24T10:39:43.738275Z"
    },
    "papermill": {
     "duration": 0.034212,
     "end_time": "2023-03-24T10:39:43.741816",
     "exception": false,
     "start_time": "2023-03-24T10:39:43.707604",
     "status": "completed"
    },
    "tags": []
   },
   "outputs": [
    {
     "data": {
      "text/plain": [
       "Embarked\n",
       "C    59.954144\n",
       "Q    13.276030\n",
       "S    27.079812\n",
       "Name: Fare, dtype: float64"
      ]
     },
     "execution_count": 12,
     "metadata": {},
     "output_type": "execute_result"
    }
   ],
   "source": [
    "#an average price of ticket passengers paid at each port seems to explain assumption D\n",
    "df_copy.groupby('Embarked').mean()['Fare']"
   ]
  },
  {
   "cell_type": "code",
   "execution_count": 13,
   "id": "58017aeb",
   "metadata": {
    "execution": {
     "iopub.execute_input": "2023-03-24T10:39:43.777679Z",
     "iopub.status.busy": "2023-03-24T10:39:43.776865Z",
     "iopub.status.idle": "2023-03-24T10:39:44.019239Z",
     "shell.execute_reply": "2023-03-24T10:39:44.018213Z"
    },
    "papermill": {
     "duration": 0.263127,
     "end_time": "2023-03-24T10:39:44.021804",
     "exception": false,
     "start_time": "2023-03-24T10:39:43.758677",
     "status": "completed"
    },
    "tags": []
   },
   "outputs": [
    {
     "data": {
      "text/plain": [
       "(array([[ 36.,  19.,  63.,  65.,  51.,  24.,  21.,   8.,   0.,   1.],\n",
       "        [ 18.,  27., 114., 104.,  66.,  46.,  24.,  15.,   9.,   1.]]),\n",
       " array([ 0.42 ,  8.378, 16.336, 24.294, 32.252, 40.21 , 48.168, 56.126,\n",
       "        64.084, 72.042, 80.   ]),\n",
       " <a list of 2 BarContainer objects>)"
      ]
     },
     "execution_count": 13,
     "metadata": {},
     "output_type": "execute_result"
    },
    {
     "data": {
      "image/png": "[encoded data removed]",
      "text/plain": [
       "<Figure size 640x480 with 1 Axes>"
      ]
     },
     "metadata": {},
     "output_type": "display_data"
    }
   ],
   "source": [
    "#plot passengers by age to verify assumption E\n",
    "plt.hist([df_copy[df_copy['Survived']==1]['Age'], df_copy[df_copy['Survived']==0]['Age']], color=['g','r'])"
   ]
  },
  {
   "cell_type": "code",
   "execution_count": 14,
   "id": "1fa8b249",
   "metadata": {
    "execution": {
     "iopub.execute_input": "2023-03-24T10:39:44.058822Z",
     "iopub.status.busy": "2023-03-24T10:39:44.057781Z",
     "iopub.status.idle": "2023-03-24T10:39:44.290624Z",
     "shell.execute_reply": "2023-03-24T10:39:44.289310Z"
    },
    "papermill": {
     "duration": 0.25442,
     "end_time": "2023-03-24T10:39:44.293443",
     "exception": false,
     "start_time": "2023-03-24T10:39:44.039023",
     "status": "completed"
    },
    "tags": []
   },
   "outputs": [
    {
     "data": {
      "text/plain": [
       "(array([[231.,  65.,   0.,  40.,   0.,   3.,   0.,   0.,   1.,   0.],\n",
       "        [445.,  53.,   0.,  40.,   0.,   2.,   4.,   0.,   4.,   1.]]),\n",
       " array([0. , 0.6, 1.2, 1.8, 2.4, 3. , 3.6, 4.2, 4.8, 5.4, 6. ]),\n",
       " <a list of 2 BarContainer objects>)"
      ]
     },
     "execution_count": 14,
     "metadata": {},
     "output_type": "execute_result"
    },
    {
     "data": {
      "image/png": "[encoded data removed]",
      "text/plain": [
       "<Figure size 640x480 with 1 Axes>"
      ]
     },
     "metadata": {},
     "output_type": "display_data"
    }
   ],
   "source": [
    "#assumption E: 'family members have a higher survival rate'\n",
    "plt.hist([df_copy[df_copy['Survived']==1]['Parch'], df_copy[df_copy['Survived']==0]['Parch']], color=['g','r'])"
   ]
  },
  {
   "cell_type": "code",
   "execution_count": 15,
   "id": "2ae3b14e",
   "metadata": {
    "execution": {
     "iopub.execute_input": "2023-03-24T10:39:44.332800Z",
     "iopub.status.busy": "2023-03-24T10:39:44.331997Z",
     "iopub.status.idle": "2023-03-24T10:39:44.592963Z",
     "shell.execute_reply": "2023-03-24T10:39:44.591618Z"
    },
    "papermill": {
     "duration": 0.284261,
     "end_time": "2023-03-24T10:39:44.595710",
     "exception": false,
     "start_time": "2023-03-24T10:39:44.311449",
     "status": "completed"
    },
    "tags": []
   },
   "outputs": [
    {
     "data": {
      "text/plain": [
       "(array([[208., 112.,  13.,   4.,   0.,   3.,   0.,   0.,   0.,   0.],\n",
       "        [398.,  97.,  15.,  12.,   0.,  15.,   5.,   0.,   0.,   7.]]),\n",
       " array([0. , 0.8, 1.6, 2.4, 3.2, 4. , 4.8, 5.6, 6.4, 7.2, 8. ]),\n",
       " <a list of 2 BarContainer objects>)"
      ]
     },
     "execution_count": 15,
     "metadata": {},
     "output_type": "execute_result"
    },
    {
     "data": {
      "image/png": "[encoded data removed]",
      "text/plain": [
       "<Figure size 640x480 with 1 Axes>"
      ]
     },
     "metadata": {},
     "output_type": "display_data"
    }
   ],
   "source": [
    "#this assumption seems to be correct however, passengers with family are an unrepresentative sample\n",
    "plt.hist([df_copy[df_copy['Survived']==1]['SibSp'], df_copy[df_copy['Survived']==0]['SibSp']], color=['g','r'])"
   ]
  },
  {
   "cell_type": "code",
   "execution_count": 16,
   "id": "e5214461",
   "metadata": {
    "execution": {
     "iopub.execute_input": "2023-03-24T10:39:44.634315Z",
     "iopub.status.busy": "2023-03-24T10:39:44.633167Z",
     "iopub.status.idle": "2023-03-24T10:39:44.732506Z",
     "shell.execute_reply": "2023-03-24T10:39:44.731143Z"
    },
    "papermill": {
     "duration": 0.121418,
     "end_time": "2023-03-24T10:39:44.735137",
     "exception": false,
     "start_time": "2023-03-24T10:39:44.613719",
     "status": "completed"
    },
    "tags": []
   },
   "outputs": [
    {
     "data": {
      "text/html": [
       "<style type=\"text/css\">\n",
       "#T_d0df1_row0_col0, #T_d0df1_row1_col1, #T_d0df1_row2_col2, #T_d0df1_row3_col3, #T_d0df1_row4_col4, #T_d0df1_row5_col5 {\n",
       "  background-color: #b40426;\n",
       "  color: #f1f1f1;\n",
       "}\n",
       "#T_d0df1_row0_col1 {\n",
       "  background-color: #6687ed;\n",
       "  color: #f1f1f1;\n",
       "}\n",
       "#T_d0df1_row0_col2, #T_d0df1_row0_col3 {\n",
       "  background-color: #7ea1fa;\n",
       "  color: #f1f1f1;\n",
       "}\n",
       "#T_d0df1_row0_col4 {\n",
       "  background-color: #85a8fc;\n",
       "  color: #f1f1f1;\n",
       "}\n",
       "#T_d0df1_row0_col5 {\n",
       "  background-color: #e1dad6;\n",
       "  color: #000000;\n",
       "}\n",
       "#T_d0df1_row1_col0, #T_d0df1_row1_col2, #T_d0df1_row1_col5, #T_d0df1_row2_col3, #T_d0df1_row2_col4, #T_d0df1_row5_col1 {\n",
       "  background-color: #3b4cc0;\n",
       "  color: #f1f1f1;\n",
       "}\n",
       "#T_d0df1_row1_col3 {\n",
       "  background-color: #9ebeff;\n",
       "  color: #000000;\n",
       "}\n",
       "#T_d0df1_row1_col4 {\n",
       "  background-color: #7295f4;\n",
       "  color: #f1f1f1;\n",
       "}\n",
       "#T_d0df1_row2_col0 {\n",
       "  background-color: #779af7;\n",
       "  color: #f1f1f1;\n",
       "}\n",
       "#T_d0df1_row2_col1 {\n",
       "  background-color: #5f7fe8;\n",
       "  color: #f1f1f1;\n",
       "}\n",
       "#T_d0df1_row2_col5 {\n",
       "  background-color: #c5d6f2;\n",
       "  color: #000000;\n",
       "}\n",
       "#T_d0df1_row3_col0 {\n",
       "  background-color: #84a7fc;\n",
       "  color: #f1f1f1;\n",
       "}\n",
       "#T_d0df1_row3_col1 {\n",
       "  background-color: #c3d5f4;\n",
       "  color: #000000;\n",
       "}\n",
       "#T_d0df1_row3_col2 {\n",
       "  background-color: #465ecf;\n",
       "  color: #f1f1f1;\n",
       "}\n",
       "#T_d0df1_row3_col4 {\n",
       "  background-color: #dedcdb;\n",
       "  color: #000000;\n",
       "}\n",
       "#T_d0df1_row3_col5 {\n",
       "  background-color: #d2dbe8;\n",
       "  color: #000000;\n",
       "}\n",
       "#T_d0df1_row4_col0 {\n",
       "  background-color: #a3c2fe;\n",
       "  color: #000000;\n",
       "}\n",
       "#T_d0df1_row4_col1 {\n",
       "  background-color: #b5cdfa;\n",
       "  color: #000000;\n",
       "}\n",
       "#T_d0df1_row4_col2 {\n",
       "  background-color: #6384eb;\n",
       "  color: #f1f1f1;\n",
       "}\n",
       "#T_d0df1_row4_col3 {\n",
       "  background-color: #ead5c9;\n",
       "  color: #000000;\n",
       "}\n",
       "#T_d0df1_row4_col5 {\n",
       "  background-color: #dbdcde;\n",
       "  color: #000000;\n",
       "}\n",
       "#T_d0df1_row5_col0 {\n",
       "  background-color: #cdd9ec;\n",
       "  color: #000000;\n",
       "}\n",
       "#T_d0df1_row5_col2 {\n",
       "  background-color: #abc8fd;\n",
       "  color: #000000;\n",
       "}\n",
       "#T_d0df1_row5_col3 {\n",
       "  background-color: #b2ccfb;\n",
       "  color: #000000;\n",
       "}\n",
       "#T_d0df1_row5_col4 {\n",
       "  background-color: #adc9fd;\n",
       "  color: #000000;\n",
       "}\n",
       "</style>\n",
       "<table id=\"T_d0df1_\">\n",
       "  <thead>\n",
       "    <tr>\n",
       "      <th class=\"blank level0\" >&nbsp;</th>\n",
       "      <th class=\"col_heading level0 col0\" >Survived</th>\n",
       "      <th class=\"col_heading level0 col1\" >Pclass</th>\n",
       "      <th class=\"col_heading level0 col2\" >Age</th>\n",
       "      <th class=\"col_heading level0 col3\" >SibSp</th>\n",
       "      <th class=\"col_heading level0 col4\" >Parch</th>\n",
       "      <th class=\"col_heading level0 col5\" >Fare</th>\n",
       "    </tr>\n",
       "  </thead>\n",
       "  <tbody>\n",
       "    <tr>\n",
       "      <th id=\"T_d0df1_level0_row0\" class=\"row_heading level0 row0\" >Survived</th>\n",
       "      <td id=\"T_d0df1_row0_col0\" class=\"data row0 col0\" >1.000000</td>\n",
       "      <td id=\"T_d0df1_row0_col1\" class=\"data row0 col1\" >-0.335549</td>\n",
       "      <td id=\"T_d0df1_row0_col2\" class=\"data row0 col2\" >-0.082446</td>\n",
       "      <td id=\"T_d0df1_row0_col3\" class=\"data row0 col3\" >-0.034040</td>\n",
       "      <td id=\"T_d0df1_row0_col4\" class=\"data row0 col4\" >0.083151</td>\n",
       "      <td id=\"T_d0df1_row0_col5\" class=\"data row0 col5\" >0.255290</td>\n",
       "    </tr>\n",
       "    <tr>\n",
       "      <th id=\"T_d0df1_level0_row1\" class=\"row_heading level0 row1\" >Pclass</th>\n",
       "      <td id=\"T_d0df1_row1_col0\" class=\"data row1 col0\" >-0.335549</td>\n",
       "      <td id=\"T_d0df1_row1_col1\" class=\"data row1 col1\" >1.000000</td>\n",
       "      <td id=\"T_d0df1_row1_col2\" class=\"data row1 col2\" >-0.365902</td>\n",
       "      <td id=\"T_d0df1_row1_col3\" class=\"data row1 col3\" >0.081656</td>\n",
       "      <td id=\"T_d0df1_row1_col4\" class=\"data row1 col4\" >0.016824</td>\n",
       "      <td id=\"T_d0df1_row1_col5\" class=\"data row1 col5\" >-0.548193</td>\n",
       "    </tr>\n",
       "    <tr>\n",
       "      <th id=\"T_d0df1_level0_row2\" class=\"row_heading level0 row2\" >Age</th>\n",
       "      <td id=\"T_d0df1_row2_col0\" class=\"data row2 col0\" >-0.082446</td>\n",
       "      <td id=\"T_d0df1_row2_col1\" class=\"data row2 col1\" >-0.365902</td>\n",
       "      <td id=\"T_d0df1_row2_col2\" class=\"data row2 col2\" >1.000000</td>\n",
       "      <td id=\"T_d0df1_row2_col3\" class=\"data row2 col3\" >-0.307351</td>\n",
       "      <td id=\"T_d0df1_row2_col4\" class=\"data row2 col4\" >-0.187896</td>\n",
       "      <td id=\"T_d0df1_row2_col5\" class=\"data row2 col5\" >0.093143</td>\n",
       "    </tr>\n",
       "    <tr>\n",
       "      <th id=\"T_d0df1_level0_row3\" class=\"row_heading level0 row3\" >SibSp</th>\n",
       "      <td id=\"T_d0df1_row3_col0\" class=\"data row3 col0\" >-0.034040</td>\n",
       "      <td id=\"T_d0df1_row3_col1\" class=\"data row3 col1\" >0.081656</td>\n",
       "      <td id=\"T_d0df1_row3_col2\" class=\"data row3 col2\" >-0.307351</td>\n",
       "      <td id=\"T_d0df1_row3_col3\" class=\"data row3 col3\" >1.000000</td>\n",
       "      <td id=\"T_d0df1_row3_col4\" class=\"data row3 col4\" >0.414542</td>\n",
       "      <td id=\"T_d0df1_row3_col5\" class=\"data row3 col5\" >0.160887</td>\n",
       "    </tr>\n",
       "    <tr>\n",
       "      <th id=\"T_d0df1_level0_row4\" class=\"row_heading level0 row4\" >Parch</th>\n",
       "      <td id=\"T_d0df1_row4_col0\" class=\"data row4 col0\" >0.083151</td>\n",
       "      <td id=\"T_d0df1_row4_col1\" class=\"data row4 col1\" >0.016824</td>\n",
       "      <td id=\"T_d0df1_row4_col2\" class=\"data row4 col2\" >-0.187896</td>\n",
       "      <td id=\"T_d0df1_row4_col3\" class=\"data row4 col3\" >0.414542</td>\n",
       "      <td id=\"T_d0df1_row4_col4\" class=\"data row4 col4\" >1.000000</td>\n",
       "      <td id=\"T_d0df1_row4_col5\" class=\"data row4 col5\" >0.217532</td>\n",
       "    </tr>\n",
       "    <tr>\n",
       "      <th id=\"T_d0df1_level0_row5\" class=\"row_heading level0 row5\" >Fare</th>\n",
       "      <td id=\"T_d0df1_row5_col0\" class=\"data row5 col0\" >0.255290</td>\n",
       "      <td id=\"T_d0df1_row5_col1\" class=\"data row5 col1\" >-0.548193</td>\n",
       "      <td id=\"T_d0df1_row5_col2\" class=\"data row5 col2\" >0.093143</td>\n",
       "      <td id=\"T_d0df1_row5_col3\" class=\"data row5 col3\" >0.160887</td>\n",
       "      <td id=\"T_d0df1_row5_col4\" class=\"data row5 col4\" >0.217532</td>\n",
       "      <td id=\"T_d0df1_row5_col5\" class=\"data row5 col5\" >1.000000</td>\n",
       "    </tr>\n",
       "  </tbody>\n",
       "</table>\n"
      ],
      "text/plain": [
       "<pandas.io.formats.style.Styler at 0x7f3fea268a90>"
      ]
     },
     "execution_count": 16,
     "metadata": {},
     "output_type": "execute_result"
    }
   ],
   "source": [
    "#plot a correlation matrix to investigate correlations between items\n",
    "correlation_matrix = df_copy[['Survived','Pclass', 'Age', 'SibSp', 'Parch', 'Fare', 'Sex']].corr()\n",
    "correlation_matrix.style.background_gradient(cmap='coolwarm')"
   ]
  },
  {
   "cell_type": "code",
   "execution_count": 17,
   "id": "96a653b8",
   "metadata": {
    "execution": {
     "iopub.execute_input": "2023-03-24T10:39:44.773750Z",
     "iopub.status.busy": "2023-03-24T10:39:44.773335Z",
     "iopub.status.idle": "2023-03-24T10:39:47.134874Z",
     "shell.execute_reply": "2023-03-24T10:39:47.133392Z"
    },
    "papermill": {
     "duration": 2.384689,
     "end_time": "2023-03-24T10:39:47.138281",
     "exception": false,
     "start_time": "2023-03-24T10:39:44.753592",
     "status": "completed"
    },
    "tags": []
   },
   "outputs": [
    {
     "data": {
      "text/plain": [
       "array([[<AxesSubplot:xlabel='Survived', ylabel='Survived'>,\n",
       "        <AxesSubplot:xlabel='Pclass', ylabel='Survived'>,\n",
       "        <AxesSubplot:xlabel='Age', ylabel='Survived'>,\n",
       "        <AxesSubplot:xlabel='SibSp', ylabel='Survived'>,\n",
       "        <AxesSubplot:xlabel='Parch', ylabel='Survived'>,\n",
       "        <AxesSubplot:xlabel='Fare', ylabel='Survived'>],\n",
       "       [<AxesSubplot:xlabel='Survived', ylabel='Pclass'>,\n",
       "        <AxesSubplot:xlabel='Pclass', ylabel='Pclass'>,\n",
       "        <AxesSubplot:xlabel='Age', ylabel='Pclass'>,\n",
       "        <AxesSubplot:xlabel='SibSp', ylabel='Pclass'>,\n",
       "        <AxesSubplot:xlabel='Parch', ylabel='Pclass'>,\n",
       "        <AxesSubplot:xlabel='Fare', ylabel='Pclass'>],\n",
       "       [<AxesSubplot:xlabel='Survived', ylabel='Age'>,\n",
       "        <AxesSubplot:xlabel='Pclass', ylabel='Age'>,\n",
       "        <AxesSubplot:xlabel='Age', ylabel='Age'>,\n",
       "        <AxesSubplot:xlabel='SibSp', ylabel='Age'>,\n",
       "        <AxesSubplot:xlabel='Parch', ylabel='Age'>,\n",
       "        <AxesSubplot:xlabel='Fare', ylabel='Age'>],\n",
       "       [<AxesSubplot:xlabel='Survived', ylabel='SibSp'>,\n",
       "        <AxesSubplot:xlabel='Pclass', ylabel='SibSp'>,\n",
       "        <AxesSubplot:xlabel='Age', ylabel='SibSp'>,\n",
       "        <AxesSubplot:xlabel='SibSp', ylabel='SibSp'>,\n",
       "        <AxesSubplot:xlabel='Parch', ylabel='SibSp'>,\n",
       "        <AxesSubplot:xlabel='Fare', ylabel='SibSp'>],\n",
       "       [<AxesSubplot:xlabel='Survived', ylabel='Parch'>,\n",
       "        <AxesSubplot:xlabel='Pclass', ylabel='Parch'>,\n",
       "        <AxesSubplot:xlabel='Age', ylabel='Parch'>,\n",
       "        <AxesSubplot:xlabel='SibSp', ylabel='Parch'>,\n",
       "        <AxesSubplot:xlabel='Parch', ylabel='Parch'>,\n",
       "        <AxesSubplot:xlabel='Fare', ylabel='Parch'>],\n",
       "       [<AxesSubplot:xlabel='Survived', ylabel='Fare'>,\n",
       "        <AxesSubplot:xlabel='Pclass', ylabel='Fare'>,\n",
       "        <AxesSubplot:xlabel='Age', ylabel='Fare'>,\n",
       "        <AxesSubplot:xlabel='SibSp', ylabel='Fare'>,\n",
       "        <AxesSubplot:xlabel='Parch', ylabel='Fare'>,\n",
       "        <AxesSubplot:xlabel='Fare', ylabel='Fare'>]], dtype=object)"
      ]
     },
     "execution_count": 17,
     "metadata": {},
     "output_type": "execute_result"
    },
    {
     "data": {
      "image/png": "[encoded data removed]",
      "text/plain": [
       "<Figure size 1200x800 with 36 Axes>"
      ]
     },
     "metadata": {},
     "output_type": "display_data"
    }
   ],
   "source": [
    "from pandas.plotting import scatter_matrix\n",
    "attributes = ['Survived','Pclass', 'Age', 'SibSp', 'Parch', 'Fare', 'Sex']\n",
    "scatter_matrix(df_copy[attributes], figsize=(12, 8))"
   ]
  },
  {
   "cell_type": "code",
   "execution_count": 18,
   "id": "75ae9d42",
   "metadata": {
    "execution": {
     "iopub.execute_input": "2023-03-24T10:39:47.182163Z",
     "iopub.status.busy": "2023-03-24T10:39:47.181749Z",
     "iopub.status.idle": "2023-03-24T10:39:47.189704Z",
     "shell.execute_reply": "2023-03-24T10:39:47.188475Z"
    },
    "papermill": {
     "duration": 0.032817,
     "end_time": "2023-03-24T10:39:47.192283",
     "exception": false,
     "start_time": "2023-03-24T10:39:47.159466",
     "status": "completed"
    },
    "tags": []
   },
   "outputs": [
    {
     "data": {
      "text/plain": [
       "'titles = r\"([Miss|Mr|Master|Sir|Mrs]+.)\"\\ndf_copy[\\'title\\']=df_copy[\\'Name\\'].str.extract(r\\', (\\\\w+\\\\.)\\')\\ndf_copy[\\'title\\'] = df_copy[\\'title\\'].astype(\\'string\\')\\ndf_copy[\\'title\\'].dtype\\ndf_copy[pd.isna(df_copy[\\'title\\'])]\\n#df_copy.drop(12, axis=1, inplace=True)\\n#df_copy.loc[759, \\'title\\'] = \\'Countess\\'\\n#[df_copy[\\'PassengerId\\']==760][\\'title\\'] = \\'Countess\\'\\nplt.figure(figsize=(16,7))\\nplt.hist([df_copy[df_copy[\\'Survived\\']==1][\\'title\\'], df_copy[df_copy[\\'Survived\\']==0][\\'title\\']], color=[\\'g\\',\\'r\\'])'"
      ]
     },
     "execution_count": 18,
     "metadata": {},
     "output_type": "execute_result"
    }
   ],
   "source": [
    "\"\"\"titles = r\"([Miss|Mr|Master|Sir|Mrs]+.)\"\n",
    "df_copy['title']=df_copy['Name'].str.extract(r', (\\w+\\.)')\n",
    "df_copy['title'] = df_copy['title'].astype('string')\n",
    "df_copy['title'].dtype\n",
    "df_copy[pd.isna(df_copy['title'])]\n",
    "#df_copy.drop(12, axis=1, inplace=True)\n",
    "#df_copy.loc[759, 'title'] = 'Countess'\n",
    "#[df_copy['PassengerId']==760]['title'] = 'Countess'\n",
    "plt.figure(figsize=(16,7))\n",
    "plt.hist([df_copy[df_copy['Survived']==1]['title'], df_copy[df_copy['Survived']==0]['title']], color=['g','r'])\"\"\""
   ]
  },
  {
   "cell_type": "code",
   "execution_count": 19,
   "id": "efea0048",
   "metadata": {
    "execution": {
     "iopub.execute_input": "2023-03-24T10:39:47.236308Z",
     "iopub.status.busy": "2023-03-24T10:39:47.235454Z",
     "iopub.status.idle": "2023-03-24T10:39:47.664506Z",
     "shell.execute_reply": "2023-03-24T10:39:47.663045Z"
    },
    "papermill": {
     "duration": 0.45443,
     "end_time": "2023-03-24T10:39:47.667520",
     "exception": false,
     "start_time": "2023-03-24T10:39:47.213090",
     "status": "completed"
    },
    "tags": []
   },
   "outputs": [],
   "source": [
    "from sklearn.impute import SimpleImputer\n",
    "imputer = SimpleImputer(strategy=\"median\")\n",
    "nums = df[['Pclass', 'Age', 'Parch', 'Fare']]\n",
    "imputer.fit(nums)\n",
    "#stored the calculated value\n",
    "imputer.statistics_\n",
    "#replace missing data in the dataset - creates plain numpy array\n",
    "X = imputer.transform(nums)\n",
    "#recreate the pandas datafram from numpy array\n",
    "nums_tr = pd.DataFrame(X, columns=nums.columns,\n",
    "index=nums.index)"
   ]
  },
  {
   "cell_type": "code",
   "execution_count": 20,
   "id": "7c381657",
   "metadata": {
    "execution": {
     "iopub.execute_input": "2023-03-24T10:39:47.710938Z",
     "iopub.status.busy": "2023-03-24T10:39:47.710484Z",
     "iopub.status.idle": "2023-03-24T10:39:47.720147Z",
     "shell.execute_reply": "2023-03-24T10:39:47.718452Z"
    },
    "papermill": {
     "duration": 0.034728,
     "end_time": "2023-03-24T10:39:47.722906",
     "exception": false,
     "start_time": "2023-03-24T10:39:47.688178",
     "status": "completed"
    },
    "tags": []
   },
   "outputs": [],
   "source": [
    "from sklearn.preprocessing import OrdinalEncoder\n",
    "df_gender = df_copy[['Sex']]\n",
    "ordinal_encoder = OrdinalEncoder()\n",
    "df_gender = ordinal_encoder.fit_transform(df_gender)\n",
    "df_gender[:10]\n",
    "#preview names of numerical categories\n",
    "ordinal_encoder.categories_\n",
    "#set column values to numerical\n",
    "df_copy['Sex'] = df_gender"
   ]
  },
  {
   "cell_type": "markdown",
   "id": "e730a110",
   "metadata": {
    "papermill": {
     "duration": 0.020248,
     "end_time": "2023-03-24T10:39:47.763764",
     "exception": false,
     "start_time": "2023-03-24T10:39:47.743516",
     "status": "completed"
    },
    "tags": []
   },
   "source": [
    "## Step 4: Prepare the data to better expose the underlying data patterns to Machine Learning algorithms \n",
    "**NOTES** \n",
    "1.\twork on copies of the data (keep the original dataset intact)\n",
    "2.\twrite functions for all data transformations you apply, for five reasons \n",
    "    1.\tso you can easily prepare the data enxt time you get a fresh dataset\n",
    "    2.\tso you can apply these transformations in future projects\n",
    "    3.\tto clean and prepare the test set\n",
    "    4.\tto clean and prepare new data isntances once your solution is live\n",
    "    5.\tto make it easy to treat your preparation choices as hyperparameters\n",
    "---\n",
    "1.\tData cleaning \n",
    "    1.\tfix or remove outliers (optional)\n",
    "2.\tfill in missing values (e.g. with zero, mean, median…) or drop their rows (or columns).\n",
    "    2.\tFeature selection (optional): \n",
    "    1.\tDrop the attributes that proved no useful information for the task.\n",
    "3.\tFeature engineering, where appropirate: \n",
    "    1.\tDiscretize continuous features\n",
    "    2.\tdecompose features (e.g. categorical ,date/time, etc.).\n",
    "    3.\tAdd promising transformations of features (e.g. log(x), sqrt(x) etc.)\n",
    "    4.\taggregate features into promising new features\n",
    "4.\tFeature scaling \n",
    "    1.\tstandardize or normalize features\n"
   ]
  },
  {
   "cell_type": "code",
   "execution_count": 21,
   "id": "a8df26ab",
   "metadata": {
    "execution": {
     "iopub.execute_input": "2023-03-24T10:39:47.807640Z",
     "iopub.status.busy": "2023-03-24T10:39:47.807182Z",
     "iopub.status.idle": "2023-03-24T10:39:47.813753Z",
     "shell.execute_reply": "2023-03-24T10:39:47.812583Z"
    },
    "papermill": {
     "duration": 0.03182,
     "end_time": "2023-03-24T10:39:47.816117",
     "exception": false,
     "start_time": "2023-03-24T10:39:47.784297",
     "status": "completed"
    },
    "tags": []
   },
   "outputs": [],
   "source": [
    "def prepare_dataframe(dataset):\n",
    "    df_clean = dataset.dropna(subset=['Embarked'])\n",
    "    df_prepared_features = df_clean[['Pclass', 'Age', 'Parch', 'Fare', 'Embarked', 'Sex']].copy()\n",
    "    try:\n",
    "        df_prepared_target = df_clean[['Survived']].copy()\n",
    "    except KeyError:\n",
    "        return df_prepared_features\n",
    "    df_prepared_categorical = df_prepared_features[['Embarked', 'Sex']]\n",
    "    return df_prepared_features, df_prepared_target"
   ]
  },
  {
   "cell_type": "code",
   "execution_count": 22,
   "id": "318ea723",
   "metadata": {
    "execution": {
     "iopub.execute_input": "2023-03-24T10:39:47.860234Z",
     "iopub.status.busy": "2023-03-24T10:39:47.859762Z",
     "iopub.status.idle": "2023-03-24T10:39:47.887350Z",
     "shell.execute_reply": "2023-03-24T10:39:47.886194Z"
    },
    "papermill": {
     "duration": 0.053425,
     "end_time": "2023-03-24T10:39:47.890351",
     "exception": false,
     "start_time": "2023-03-24T10:39:47.836926",
     "status": "completed"
    },
    "tags": []
   },
   "outputs": [],
   "source": [
    "from sklearn.pipeline import Pipeline\n",
    "from sklearn.preprocessing import StandardScaler, OneHotEncoder\n",
    "from sklearn.compose import ColumnTransformer\n",
    "\n",
    "def run_pipeline(dataset):\n",
    "    num_pipeline = Pipeline([\n",
    "        ('imputer', SimpleImputer(strategy=\"median\")),\n",
    "        ('std_scaler', StandardScaler()),\n",
    "        ])\n",
    "    num_attribs = list(dataset.drop(['Embarked', 'Sex'], axis=1))\n",
    "    cat_attribs = ['Embarked', 'Sex']\n",
    "    full_pipeline = ColumnTransformer([\n",
    "    (\"num\", num_pipeline, num_attribs),\n",
    "    (\"cat\", OneHotEncoder(), cat_attribs),\n",
    "    ])\n",
    "    return full_pipeline.fit_transform(dataset)\n"
   ]
  },
  {
   "cell_type": "code",
   "execution_count": 23,
   "id": "a5e7e984",
   "metadata": {
    "execution": {
     "iopub.execute_input": "2023-03-24T10:39:47.934071Z",
     "iopub.status.busy": "2023-03-24T10:39:47.933339Z",
     "iopub.status.idle": "2023-03-24T10:39:47.952242Z",
     "shell.execute_reply": "2023-03-24T10:39:47.950912Z"
    },
    "papermill": {
     "duration": 0.043672,
     "end_time": "2023-03-24T10:39:47.954931",
     "exception": false,
     "start_time": "2023-03-24T10:39:47.911259",
     "status": "completed"
    },
    "tags": []
   },
   "outputs": [
    {
     "data": {
      "text/html": [
       "<div>\n",
       "<style scoped>\n",
       "    .dataframe tbody tr th:only-of-type {\n",
       "        vertical-align: middle;\n",
       "    }\n",
       "\n",
       "    .dataframe tbody tr th {\n",
       "        vertical-align: top;\n",
       "    }\n",
       "\n",
       "    .dataframe thead th {\n",
       "        text-align: right;\n",
       "    }\n",
       "</style>\n",
       "<table border=\"1\" class=\"dataframe\">\n",
       "  <thead>\n",
       "    <tr style=\"text-align: right;\">\n",
       "      <th></th>\n",
       "      <th>PassengerId</th>\n",
       "      <th>Pclass</th>\n",
       "      <th>Name</th>\n",
       "      <th>Sex</th>\n",
       "      <th>Age</th>\n",
       "      <th>SibSp</th>\n",
       "      <th>Parch</th>\n",
       "      <th>Ticket</th>\n",
       "      <th>Fare</th>\n",
       "      <th>Cabin</th>\n",
       "      <th>Embarked</th>\n",
       "    </tr>\n",
       "  </thead>\n",
       "  <tbody>\n",
       "    <tr>\n",
       "      <th>0</th>\n",
       "      <td>892</td>\n",
       "      <td>3</td>\n",
       "      <td>Kelly, Mr. James</td>\n",
       "      <td>male</td>\n",
       "      <td>34.5</td>\n",
       "      <td>0</td>\n",
       "      <td>0</td>\n",
       "      <td>330911</td>\n",
       "      <td>7.8292</td>\n",
       "      <td>NaN</td>\n",
       "      <td>Q</td>\n",
       "    </tr>\n",
       "    <tr>\n",
       "      <th>1</th>\n",
       "      <td>893</td>\n",
       "      <td>3</td>\n",
       "      <td>Wilkes, Mrs. James (Ellen Needs)</td>\n",
       "      <td>female</td>\n",
       "      <td>47.0</td>\n",
       "      <td>1</td>\n",
       "      <td>0</td>\n",
       "      <td>363272</td>\n",
       "      <td>7.0000</td>\n",
       "      <td>NaN</td>\n",
       "      <td>S</td>\n",
       "    </tr>\n",
       "    <tr>\n",
       "      <th>2</th>\n",
       "      <td>894</td>\n",
       "      <td>2</td>\n",
       "      <td>Myles, Mr. Thomas Francis</td>\n",
       "      <td>male</td>\n",
       "      <td>62.0</td>\n",
       "      <td>0</td>\n",
       "      <td>0</td>\n",
       "      <td>240276</td>\n",
       "      <td>9.6875</td>\n",
       "      <td>NaN</td>\n",
       "      <td>Q</td>\n",
       "    </tr>\n",
       "    <tr>\n",
       "      <th>3</th>\n",
       "      <td>895</td>\n",
       "      <td>3</td>\n",
       "      <td>Wirz, Mr. Albert</td>\n",
       "      <td>male</td>\n",
       "      <td>27.0</td>\n",
       "      <td>0</td>\n",
       "      <td>0</td>\n",
       "      <td>315154</td>\n",
       "      <td>8.6625</td>\n",
       "      <td>NaN</td>\n",
       "      <td>S</td>\n",
       "    </tr>\n",
       "    <tr>\n",
       "      <th>4</th>\n",
       "      <td>896</td>\n",
       "      <td>3</td>\n",
       "      <td>Hirvonen, Mrs. Alexander (Helga E Lindqvist)</td>\n",
       "      <td>female</td>\n",
       "      <td>22.0</td>\n",
       "      <td>1</td>\n",
       "      <td>1</td>\n",
       "      <td>3101298</td>\n",
       "      <td>12.2875</td>\n",
       "      <td>NaN</td>\n",
       "      <td>S</td>\n",
       "    </tr>\n",
       "  </tbody>\n",
       "</table>\n",
       "</div>"
      ],
      "text/plain": [
       "   PassengerId  Pclass                                          Name     Sex  \\\n",
       "0          892       3                              Kelly, Mr. James    male   \n",
       "1          893       3              Wilkes, Mrs. James (Ellen Needs)  female   \n",
       "2          894       2                     Myles, Mr. Thomas Francis    male   \n",
       "3          895       3                              Wirz, Mr. Albert    male   \n",
       "4          896       3  Hirvonen, Mrs. Alexander (Helga E Lindqvist)  female   \n",
       "\n",
       "    Age  SibSp  Parch   Ticket     Fare Cabin Embarked  \n",
       "0  34.5      0      0   330911   7.8292   NaN        Q  \n",
       "1  47.0      1      0   363272   7.0000   NaN        S  \n",
       "2  62.0      0      0   240276   9.6875   NaN        Q  \n",
       "3  27.0      0      0   315154   8.6625   NaN        S  \n",
       "4  22.0      1      1  3101298  12.2875   NaN        S  "
      ]
     },
     "execution_count": 23,
     "metadata": {},
     "output_type": "execute_result"
    }
   ],
   "source": [
    "df_test.head()"
   ]
  },
  {
   "cell_type": "code",
   "execution_count": 24,
   "id": "2b16d102",
   "metadata": {
    "execution": {
     "iopub.execute_input": "2023-03-24T10:39:47.999095Z",
     "iopub.status.busy": "2023-03-24T10:39:47.998324Z",
     "iopub.status.idle": "2023-03-24T10:39:48.025948Z",
     "shell.execute_reply": "2023-03-24T10:39:48.024677Z"
    },
    "papermill": {
     "duration": 0.053012,
     "end_time": "2023-03-24T10:39:48.028958",
     "exception": false,
     "start_time": "2023-03-24T10:39:47.975946",
     "status": "completed"
    },
    "tags": []
   },
   "outputs": [],
   "source": [
    "#prepare train dataframe\n",
    "df_prepared_features, df_prepared_target = prepare_dataframe(df)\n",
    "\n",
    "#simpler alternative to OneHotEncoder\n",
    "df_prepared_features1 = pd.get_dummies(df_prepared_features)\n",
    "\n",
    "#run the pipeline\n",
    "df_prep = run_pipeline(df_prepared_features)"
   ]
  },
  {
   "cell_type": "code",
   "execution_count": 25,
   "id": "844aec50",
   "metadata": {
    "execution": {
     "iopub.execute_input": "2023-03-24T10:39:48.075433Z",
     "iopub.status.busy": "2023-03-24T10:39:48.074173Z",
     "iopub.status.idle": "2023-03-24T10:39:48.098851Z",
     "shell.execute_reply": "2023-03-24T10:39:48.097649Z"
    },
    "papermill": {
     "duration": 0.050661,
     "end_time": "2023-03-24T10:39:48.101705",
     "exception": false,
     "start_time": "2023-03-24T10:39:48.051044",
     "status": "completed"
    },
    "tags": []
   },
   "outputs": [],
   "source": [
    "#prepare test dataframe\n",
    "df_test_features = prepare_dataframe(df_test)\n",
    "\n",
    "#simpler alternative to OneHotEncoder\n",
    "df_test_features1 = pd.get_dummies(df_test_features)\n",
    "\n",
    "#run the pipeline\n",
    "df_test_prep = run_pipeline(df_test_features)"
   ]
  },
  {
   "cell_type": "code",
   "execution_count": 26,
   "id": "3d0e6f4f",
   "metadata": {
    "execution": {
     "iopub.execute_input": "2023-03-24T10:39:48.145853Z",
     "iopub.status.busy": "2023-03-24T10:39:48.145429Z",
     "iopub.status.idle": "2023-03-24T10:39:48.151786Z",
     "shell.execute_reply": "2023-03-24T10:39:48.150467Z"
    },
    "papermill": {
     "duration": 0.031556,
     "end_time": "2023-03-24T10:39:48.154290",
     "exception": false,
     "start_time": "2023-03-24T10:39:48.122734",
     "status": "completed"
    },
    "tags": []
   },
   "outputs": [],
   "source": [
    "df_preped = pd.DataFrame(df_prep, columns=df_prepared_features1.columns, index=df_prepared_features1.index)\n",
    "df_test_prep = pd.DataFrame(df_test_prep, columns=df_test_features1.columns, index=df_test_features1.index)"
   ]
  },
  {
   "cell_type": "code",
   "execution_count": 27,
   "id": "94e6f832",
   "metadata": {
    "execution": {
     "iopub.execute_input": "2023-03-24T10:39:48.198509Z",
     "iopub.status.busy": "2023-03-24T10:39:48.198087Z",
     "iopub.status.idle": "2023-03-24T10:39:48.217964Z",
     "shell.execute_reply": "2023-03-24T10:39:48.216681Z"
    },
    "papermill": {
     "duration": 0.045283,
     "end_time": "2023-03-24T10:39:48.220460",
     "exception": false,
     "start_time": "2023-03-24T10:39:48.175177",
     "status": "completed"
    },
    "tags": []
   },
   "outputs": [
    {
     "data": {
      "text/html": [
       "<div>\n",
       "<style scoped>\n",
       "    .dataframe tbody tr th:only-of-type {\n",
       "        vertical-align: middle;\n",
       "    }\n",
       "\n",
       "    .dataframe tbody tr th {\n",
       "        vertical-align: top;\n",
       "    }\n",
       "\n",
       "    .dataframe thead th {\n",
       "        text-align: right;\n",
       "    }\n",
       "</style>\n",
       "<table border=\"1\" class=\"dataframe\">\n",
       "  <thead>\n",
       "    <tr style=\"text-align: right;\">\n",
       "      <th></th>\n",
       "      <th>Pclass</th>\n",
       "      <th>Age</th>\n",
       "      <th>Parch</th>\n",
       "      <th>Fare</th>\n",
       "      <th>Embarked_C</th>\n",
       "      <th>Embarked_Q</th>\n",
       "      <th>Embarked_S</th>\n",
       "      <th>Sex_female</th>\n",
       "      <th>Sex_male</th>\n",
       "    </tr>\n",
       "  </thead>\n",
       "  <tbody>\n",
       "    <tr>\n",
       "      <th>0</th>\n",
       "      <td>0.825209</td>\n",
       "      <td>-0.563674</td>\n",
       "      <td>-0.474326</td>\n",
       "      <td>-0.500240</td>\n",
       "      <td>0.0</td>\n",
       "      <td>0.0</td>\n",
       "      <td>1.0</td>\n",
       "      <td>0.0</td>\n",
       "      <td>1.0</td>\n",
       "    </tr>\n",
       "    <tr>\n",
       "      <th>1</th>\n",
       "      <td>-1.572211</td>\n",
       "      <td>0.669217</td>\n",
       "      <td>-0.474326</td>\n",
       "      <td>0.788947</td>\n",
       "      <td>1.0</td>\n",
       "      <td>0.0</td>\n",
       "      <td>0.0</td>\n",
       "      <td>1.0</td>\n",
       "      <td>0.0</td>\n",
       "    </tr>\n",
       "    <tr>\n",
       "      <th>2</th>\n",
       "      <td>0.825209</td>\n",
       "      <td>-0.255451</td>\n",
       "      <td>-0.474326</td>\n",
       "      <td>-0.486650</td>\n",
       "      <td>0.0</td>\n",
       "      <td>0.0</td>\n",
       "      <td>1.0</td>\n",
       "      <td>1.0</td>\n",
       "      <td>0.0</td>\n",
       "    </tr>\n",
       "    <tr>\n",
       "      <th>3</th>\n",
       "      <td>-1.572211</td>\n",
       "      <td>0.438050</td>\n",
       "      <td>-0.474326</td>\n",
       "      <td>0.422861</td>\n",
       "      <td>0.0</td>\n",
       "      <td>0.0</td>\n",
       "      <td>1.0</td>\n",
       "      <td>1.0</td>\n",
       "      <td>0.0</td>\n",
       "    </tr>\n",
       "    <tr>\n",
       "      <th>4</th>\n",
       "      <td>0.825209</td>\n",
       "      <td>0.438050</td>\n",
       "      <td>-0.474326</td>\n",
       "      <td>-0.484133</td>\n",
       "      <td>0.0</td>\n",
       "      <td>0.0</td>\n",
       "      <td>1.0</td>\n",
       "      <td>0.0</td>\n",
       "      <td>1.0</td>\n",
       "    </tr>\n",
       "  </tbody>\n",
       "</table>\n",
       "</div>"
      ],
      "text/plain": [
       "     Pclass       Age     Parch      Fare  Embarked_C  Embarked_Q  Embarked_S  \\\n",
       "0  0.825209 -0.563674 -0.474326 -0.500240         0.0         0.0         1.0   \n",
       "1 -1.572211  0.669217 -0.474326  0.788947         1.0         0.0         0.0   \n",
       "2  0.825209 -0.255451 -0.474326 -0.486650         0.0         0.0         1.0   \n",
       "3 -1.572211  0.438050 -0.474326  0.422861         0.0         0.0         1.0   \n",
       "4  0.825209  0.438050 -0.474326 -0.484133         0.0         0.0         1.0   \n",
       "\n",
       "   Sex_female  Sex_male  \n",
       "0         0.0       1.0  \n",
       "1         1.0       0.0  \n",
       "2         1.0       0.0  \n",
       "3         1.0       0.0  \n",
       "4         0.0       1.0  "
      ]
     },
     "execution_count": 27,
     "metadata": {},
     "output_type": "execute_result"
    }
   ],
   "source": [
    "df_preped.head()"
   ]
  },
  {
   "cell_type": "markdown",
   "id": "4b448eeb",
   "metadata": {
    "papermill": {
     "duration": 0.020853,
     "end_time": "2023-03-24T10:39:48.262424",
     "exception": false,
     "start_time": "2023-03-24T10:39:48.241571",
     "status": "completed"
    },
    "tags": []
   },
   "source": [
    "## Step 5: Explore many different models and shortlist the best ones \n",
    "**NOTES**\n",
    "1.\tif the data is huge, you may want to sample smaller training sets so you can train many different models in a reasonable time (be aware that this penalizes complex models such as large neural nets or Random Forests).\n",
    "2.\tonce again, try to automate these steps as much as possible\n",
    "---\n",
    "1.\ttrain many quick-and-dirty models from different cateogires (e.g. linear, naive Bayes, SVM, Random Forest, neural net, etc.) using standard parameters.\n",
    "2.\tMeasure and compare their perfomance \n",
    "    1.\tfoe each model, use n-fold cross-validation and compute the mean and standard deviation of the peformance measure on the N folds\n",
    "3.\tAnalyze the most significant variables for each algorithm\n",
    "4.\tAnalyse the types of erros the models make \n",
    "    1.\tWhat data would a human have used to avoid these errors?\n",
    "5.\tPerform a quick round of feature selection and engineering.\n",
    "6.\tPerform one or two more quick iterations of the five previous steps.\n",
    "7.\tShortlist the top three to five most promising models, preferring models that make different types of errors,"
   ]
  },
  {
   "cell_type": "code",
   "execution_count": 28,
   "id": "c5cbce90",
   "metadata": {
    "execution": {
     "iopub.execute_input": "2023-03-24T10:39:48.307033Z",
     "iopub.status.busy": "2023-03-24T10:39:48.306184Z",
     "iopub.status.idle": "2023-03-24T10:39:48.312587Z",
     "shell.execute_reply": "2023-03-24T10:39:48.311157Z"
    },
    "papermill": {
     "duration": 0.031878,
     "end_time": "2023-03-24T10:39:48.315430",
     "exception": false,
     "start_time": "2023-03-24T10:39:48.283552",
     "status": "completed"
    },
    "tags": []
   },
   "outputs": [],
   "source": [
    "#function calculating Root Mean Square Error for model\n",
    "def rmse(prediction, labels):\n",
    "    from sklearn.metrics import mean_squared_error\n",
    "    mse = mean_squared_error(labels, prediction)\n",
    "    rmse = np.sqrt(mse)\n",
    "    return rmse"
   ]
  },
  {
   "cell_type": "code",
   "execution_count": 29,
   "id": "b86ac8e9",
   "metadata": {
    "execution": {
     "iopub.execute_input": "2023-03-24T10:39:48.360263Z",
     "iopub.status.busy": "2023-03-24T10:39:48.359845Z",
     "iopub.status.idle": "2023-03-24T10:39:48.365910Z",
     "shell.execute_reply": "2023-03-24T10:39:48.364510Z"
    },
    "papermill": {
     "duration": 0.03165,
     "end_time": "2023-03-24T10:39:48.368533",
     "exception": false,
     "start_time": "2023-03-24T10:39:48.336883",
     "status": "completed"
    },
    "tags": []
   },
   "outputs": [],
   "source": [
    "#prepare features and target variables for training and testing\n",
    "y = df_prepared_target.values.ravel()\n",
    "#y_test = df_test_target\n",
    "X = df_preped\n",
    "X_test = df_test_prep"
   ]
  },
  {
   "cell_type": "code",
   "execution_count": 30,
   "id": "b25e8963",
   "metadata": {
    "execution": {
     "iopub.execute_input": "2023-03-24T10:39:48.413274Z",
     "iopub.status.busy": "2023-03-24T10:39:48.412430Z",
     "iopub.status.idle": "2023-03-24T10:39:48.976676Z",
     "shell.execute_reply": "2023-03-24T10:39:48.975287Z"
    },
    "papermill": {
     "duration": 0.590058,
     "end_time": "2023-03-24T10:39:48.979834",
     "exception": false,
     "start_time": "2023-03-24T10:39:48.389776",
     "status": "completed"
    },
    "tags": []
   },
   "outputs": [
    {
     "name": "stdout",
     "output_type": "stream",
     "text": [
      "0.28260399302361405\n"
     ]
    }
   ],
   "source": [
    "#build Random Forest Classifier\n",
    "from sklearn.ensemble import RandomForestClassifier\n",
    "\n",
    "random_forest_model = RandomForestClassifier(n_estimators=200, max_depth=8, random_state=1)\n",
    "random_forest_model.fit(X, y)\n",
    "random_forest_predictions = random_forest_model.predict(X)\n",
    "\n",
    "rf_rmse = rmse(random_forest_predictions, y)\n",
    "print(rf_rmse)\n",
    "#output = pd.DataFrame({'PassengerId': df_test.PassengerId, 'Survived': predictions})\n",
    "#output.Survived.value_counts().plot(kind='bar')\n",
    "\n",
    "#output.to_csv('submission.csv', index=False)\n",
    "#print(\"Your submission was successfully saved!\")"
   ]
  },
  {
   "cell_type": "code",
   "execution_count": 31,
   "id": "b1c84fcc",
   "metadata": {
    "execution": {
     "iopub.execute_input": "2023-03-24T10:39:49.025803Z",
     "iopub.status.busy": "2023-03-24T10:39:49.025380Z",
     "iopub.status.idle": "2023-03-24T10:39:49.066583Z",
     "shell.execute_reply": "2023-03-24T10:39:49.065236Z"
    },
    "papermill": {
     "duration": 0.067505,
     "end_time": "2023-03-24T10:39:49.069548",
     "exception": false,
     "start_time": "2023-03-24T10:39:49.002043",
     "status": "completed"
    },
    "tags": []
   },
   "outputs": [
    {
     "name": "stdout",
     "output_type": "stream",
     "text": [
      "0.3779644730092272\n"
     ]
    }
   ],
   "source": [
    "#build K-Neighbors Classifier\n",
    "\n",
    "from sklearn.neighbors import KNeighborsClassifier\n",
    "\n",
    "kneighbors_model = KNeighborsClassifier()\n",
    "\n",
    "kneighbors_model.fit(X, y)\n",
    "kneighbors_predictions = kneighbors_model.predict(X)\n",
    "kn_rmse = rmse(kneighbors_predictions, y)\n",
    "print(kn_rmse)"
   ]
  },
  {
   "cell_type": "code",
   "execution_count": 32,
   "id": "c13a1dcd",
   "metadata": {
    "execution": {
     "iopub.execute_input": "2023-03-24T10:39:49.114399Z",
     "iopub.status.busy": "2023-03-24T10:39:49.113448Z",
     "iopub.status.idle": "2023-03-24T10:39:49.127628Z",
     "shell.execute_reply": "2023-03-24T10:39:49.126208Z"
    },
    "papermill": {
     "duration": 0.039192,
     "end_time": "2023-03-24T10:39:49.130093",
     "exception": false,
     "start_time": "2023-03-24T10:39:49.090901",
     "status": "completed"
    },
    "tags": []
   },
   "outputs": [
    {
     "name": "stdout",
     "output_type": "stream",
     "text": [
      "0.14619277840899883\n"
     ]
    }
   ],
   "source": [
    "#build Decision Tree Classifier\n",
    "from sklearn.tree import DecisionTreeClassifier\n",
    "\n",
    "decision_tree_model = DecisionTreeClassifier()\n",
    "\n",
    "decision_tree_model.fit(X, y)\n",
    "decision_tree_predictions = decision_tree_model.predict(X)\n",
    "dt_rmse = rmse(decision_tree_predictions, y)\n",
    "print(dt_rmse)"
   ]
  },
  {
   "cell_type": "code",
   "execution_count": 33,
   "id": "9923e546",
   "metadata": {
    "execution": {
     "iopub.execute_input": "2023-03-24T10:39:49.175897Z",
     "iopub.status.busy": "2023-03-24T10:39:49.175458Z",
     "iopub.status.idle": "2023-03-24T10:39:49.190286Z",
     "shell.execute_reply": "2023-03-24T10:39:49.188674Z"
    },
    "papermill": {
     "duration": 0.040995,
     "end_time": "2023-03-24T10:39:49.193014",
     "exception": false,
     "start_time": "2023-03-24T10:39:49.152019",
     "status": "completed"
    },
    "tags": []
   },
   "outputs": [
    {
     "name": "stdout",
     "output_type": "stream",
     "text": [
      "0.47074122438709126\n"
     ]
    }
   ],
   "source": [
    "#build Stochastic Gradient Descent Classifier\n",
    "from sklearn.linear_model import SGDClassifier\n",
    "\n",
    "sgd_model = SGDClassifier()\n",
    "\n",
    "sgd_model.fit(X, y)\n",
    "sgd_predictions = sgd_model.predict(X)\n",
    "sgd_rmse = rmse(sgd_predictions, y)\n",
    "print(sgd_rmse)"
   ]
  },
  {
   "cell_type": "code",
   "execution_count": 34,
   "id": "029a687e",
   "metadata": {
    "execution": {
     "iopub.execute_input": "2023-03-24T10:39:49.238604Z",
     "iopub.status.busy": "2023-03-24T10:39:49.238177Z",
     "iopub.status.idle": "2023-03-24T10:39:49.299243Z",
     "shell.execute_reply": "2023-03-24T10:39:49.297522Z"
    },
    "papermill": {
     "duration": 0.087023,
     "end_time": "2023-03-24T10:39:49.301852",
     "exception": false,
     "start_time": "2023-03-24T10:39:49.214829",
     "status": "completed"
    },
    "tags": []
   },
   "outputs": [
    {
     "name": "stdout",
     "output_type": "stream",
     "text": [
      "0.405252355102454\n"
     ]
    }
   ],
   "source": [
    "#build Support Vector Classifier\n",
    "from sklearn import svm\n",
    "\n",
    "svc_model = svm.SVC()\n",
    "\n",
    "svc_model.fit(X, y)\n",
    "svc_predictions = svc_model.predict(X)\n",
    "svc_rmse = rmse(svc_predictions, y)\n",
    "print(svc_rmse)"
   ]
  },
  {
   "cell_type": "markdown",
   "id": "cb4a0fb0",
   "metadata": {
    "papermill": {
     "duration": 0.021908,
     "end_time": "2023-03-24T10:39:49.346708",
     "exception": false,
     "start_time": "2023-03-24T10:39:49.324800",
     "status": "completed"
    },
    "tags": []
   },
   "source": [
    "## Step 6: Fine-tune your models and combine them into a great solution \n",
    "**NOTES**\n",
    "1.\tyou will want to use as much data as possible for this stope, especially as you move toward the end of fine-tuning\n",
    "2.\tas always, automate what you can\n",
    "\n",
    "***WARNING***\n",
    "1.\tdon’t tweak your model after measuring the generalization error: yoou would just start overfitting the test set.\n",
    "\n",
    "---\n",
    "1.\tfine-tune the hyperparameters using cross-validation: \n",
    "1.\ttreat your data transformation choises as hyperparameters, especially when you are not sure about them (e.g. if you’re not sure whetehr to replace missing values with zeros or with the median value, or to just drop the rows)\n",
    "2.\tunless there are very few hyperparameter value to explore, prefere random seach over grid search. If training is very long, you may prefere a Bayesian optimization approach (e.g. using Gaussian process priors, as described by Jasper Snoes et al.) - https://arxiv.org/abs/1206.2944\n",
    "2.\tTry Ensemble methods. Combining your best models will often produce better performance than running them individually.\n",
    "3.\tOnce you are confident about your final model, measure its performance on the tes set to estimate the generalization error.\n"
   ]
  },
  {
   "cell_type": "code",
   "execution_count": 35,
   "id": "0d3ed973",
   "metadata": {
    "execution": {
     "iopub.execute_input": "2023-03-24T10:39:49.393924Z",
     "iopub.status.busy": "2023-03-24T10:39:49.393507Z",
     "iopub.status.idle": "2023-03-24T10:39:49.400603Z",
     "shell.execute_reply": "2023-03-24T10:39:49.399169Z"
    },
    "papermill": {
     "duration": 0.033099,
     "end_time": "2023-03-24T10:39:49.403147",
     "exception": false,
     "start_time": "2023-03-24T10:39:49.370048",
     "status": "completed"
    },
    "tags": []
   },
   "outputs": [],
   "source": [
    "#cross validation will be run on 3 most accurate models: decision tree, random forest and \n",
    "#SVC (KNN was more accurate, but SVC has better potential for tuning)\n",
    "def cross_val(model, features, labels):\n",
    "    from sklearn.model_selection import cross_val_score\n",
    "    scores = cross_val_score(model, features, labels, scoring=\"neg_mean_squared_error\", cv=10)\n",
    "    tree_rmse_scores = np.sqrt(-scores)\n",
    "    return tree_rmse_scores\n",
    "\n",
    "\n",
    "def display_scores(scores):\n",
    "    print(\"Scores:\", scores)\n",
    "    print(\"Mean:\", scores.mean())\n",
    "    print(\"Standard deviation:\", scores.std())"
   ]
  },
  {
   "cell_type": "code",
   "execution_count": 36,
   "id": "ef535ff2",
   "metadata": {
    "execution": {
     "iopub.execute_input": "2023-03-24T10:39:49.448570Z",
     "iopub.status.busy": "2023-03-24T10:39:49.447874Z",
     "iopub.status.idle": "2023-03-24T10:39:49.514736Z",
     "shell.execute_reply": "2023-03-24T10:39:49.512972Z"
    },
    "papermill": {
     "duration": 0.093761,
     "end_time": "2023-03-24T10:39:49.518536",
     "exception": false,
     "start_time": "2023-03-24T10:39:49.424775",
     "status": "completed"
    },
    "tags": []
   },
   "outputs": [
    {
     "name": "stdout",
     "output_type": "stream",
     "text": [
      "Scores: [0.49718308 0.39661489 0.51929079 0.49718308 0.42399915 0.48575205\n",
      " 0.41053541 0.49718308 0.41053541 0.42640143]\n",
      "Mean: 0.45646783693188375\n",
      "Standard deviation: 0.04420139691479786\n"
     ]
    }
   ],
   "source": [
    "dt_cv = cross_val(decision_tree_model, X, y)\n",
    "display_scores(dt_cv)"
   ]
  },
  {
   "cell_type": "code",
   "execution_count": 37,
   "id": "0aa293b9",
   "metadata": {
    "execution": {
     "iopub.execute_input": "2023-03-24T10:39:49.565152Z",
     "iopub.status.busy": "2023-03-24T10:39:49.564440Z",
     "iopub.status.idle": "2023-03-24T10:39:53.302832Z",
     "shell.execute_reply": "2023-03-24T10:39:53.301430Z"
    },
    "papermill": {
     "duration": 3.76585,
     "end_time": "2023-03-24T10:39:53.306283",
     "exception": false,
     "start_time": "2023-03-24T10:39:49.540433",
     "status": "completed"
    },
    "tags": []
   },
   "outputs": [
    {
     "name": "stdout",
     "output_type": "stream",
     "text": [
      "Scores: [0.43704832 0.41053541 0.50835712 0.33520076 0.28044908 0.39661489\n",
      " 0.42399915 0.46204236 0.36719404 0.41286141]\n",
      "Mean: 0.4034302554700595\n",
      "Standard deviation: 0.061054776750128936\n"
     ]
    }
   ],
   "source": [
    "rf_cv = cross_val(random_forest_model, X, y)\n",
    "display_scores(rf_cv)"
   ]
  },
  {
   "cell_type": "code",
   "execution_count": 38,
   "id": "2ab16615",
   "metadata": {
    "execution": {
     "iopub.execute_input": "2023-03-24T10:39:53.352487Z",
     "iopub.status.busy": "2023-03-24T10:39:53.351749Z",
     "iopub.status.idle": "2023-03-24T10:39:53.646068Z",
     "shell.execute_reply": "2023-03-24T10:39:53.644355Z"
    },
    "papermill": {
     "duration": 0.320664,
     "end_time": "2023-03-24T10:39:53.649377",
     "exception": false,
     "start_time": "2023-03-24T10:39:53.328713",
     "status": "completed"
    },
    "tags": []
   },
   "outputs": [
    {
     "name": "stdout",
     "output_type": "stream",
     "text": [
      "Scores: [0.43704832 0.43704832 0.49718308 0.35156152 0.41053541 0.47404546\n",
      " 0.41053541 0.48575205 0.38218767 0.42640143]\n",
      "Mean: 0.43122986913648054\n",
      "Standard deviation: 0.04342279924954967\n"
     ]
    }
   ],
   "source": [
    "svc_cv = cross_val(svc_model, X, y)\n",
    "display_scores(svc_cv)"
   ]
  },
  {
   "cell_type": "code",
   "execution_count": 39,
   "id": "81093e57",
   "metadata": {
    "execution": {
     "iopub.execute_input": "2023-03-24T10:39:53.695505Z",
     "iopub.status.busy": "2023-03-24T10:39:53.694773Z",
     "iopub.status.idle": "2023-03-24T10:39:53.703013Z",
     "shell.execute_reply": "2023-03-24T10:39:53.702018Z"
    },
    "papermill": {
     "duration": 0.034141,
     "end_time": "2023-03-24T10:39:53.705645",
     "exception": false,
     "start_time": "2023-03-24T10:39:53.671504",
     "status": "completed"
    },
    "tags": []
   },
   "outputs": [],
   "source": [
    "#hyperparameter tuning using GridSearchCV\n",
    "def grid_search_cv(model, param_grid, X, y):\n",
    "    from sklearn.model_selection import GridSearchCV\n",
    "    model_class = model\n",
    "    grid_search = GridSearchCV(model_class, param_grid, cv=5, scoring='neg_mean_squared_error', return_train_score=True)\n",
    "    grid_search.fit(X, y)\n",
    "    return grid_search\n",
    "\n",
    "def get_grid_search_parameters(model, param_grid, X, y):\n",
    "    grid = grid_search_cv(model, param_grid, X, y)\n",
    "    #print best parameters\n",
    "    print(grid.best_params_)\n",
    "    cvres = grid.cv_results_\n",
    "    #compute evaluation scores\n",
    "    for mean_score, params in zip(cvres[\"mean_test_score\"], cvres[\"params\"]):\n",
    "        print(np.sqrt(-mean_score), params)\n",
    "    #direct access to best estimator (full class instance with hyperparams)\n",
    "    return grid.best_estimator_"
   ]
  },
  {
   "cell_type": "code",
   "execution_count": 40,
   "id": "9889b243",
   "metadata": {
    "execution": {
     "iopub.execute_input": "2023-03-24T10:39:53.750629Z",
     "iopub.status.busy": "2023-03-24T10:39:53.750203Z",
     "iopub.status.idle": "2023-03-24T10:39:53.756182Z",
     "shell.execute_reply": "2023-03-24T10:39:53.754757Z"
    },
    "papermill": {
     "duration": 0.031642,
     "end_time": "2023-03-24T10:39:53.758797",
     "exception": false,
     "start_time": "2023-03-24T10:39:53.727155",
     "status": "completed"
    },
    "tags": []
   },
   "outputs": [],
   "source": [
    "rf_param_grid = [\n",
    "    {'n_estimators': [3, 10, 30], 'max_features': [2, 4, 6, 8]},\n",
    "    {'bootstrap': [False], 'n_estimators': [3, 10], 'max_features': [2, 3, 4]},]"
   ]
  },
  {
   "cell_type": "code",
   "execution_count": 41,
   "id": "4fdccc12",
   "metadata": {
    "execution": {
     "iopub.execute_input": "2023-03-24T10:39:53.804605Z",
     "iopub.status.busy": "2023-03-24T10:39:53.804122Z",
     "iopub.status.idle": "2023-03-24T10:39:56.944239Z",
     "shell.execute_reply": "2023-03-24T10:39:56.942930Z"
    },
    "papermill": {
     "duration": 3.166475,
     "end_time": "2023-03-24T10:39:56.947175",
     "exception": false,
     "start_time": "2023-03-24T10:39:53.780700",
     "status": "completed"
    },
    "tags": []
   },
   "outputs": [
    {
     "name": "stdout",
     "output_type": "stream",
     "text": [
      "{'max_features': 8, 'n_estimators': 30}\n",
      "0.49743836917172995 {'max_features': 2, 'n_estimators': 3}\n",
      "0.44869447446590893 {'max_features': 2, 'n_estimators': 10}\n",
      "0.4487086219481992 {'max_features': 2, 'n_estimators': 30}\n",
      "0.4549396673550852 {'max_features': 4, 'n_estimators': 3}\n",
      "0.44868740055748313 {'max_features': 4, 'n_estimators': 10}\n",
      "0.4398065744061564 {'max_features': 4, 'n_estimators': 30}\n",
      "0.45858783179099755 {'max_features': 6, 'n_estimators': 3}\n",
      "0.44367222742490886 {'max_features': 6, 'n_estimators': 10}\n",
      "0.4474406507131647 {'max_features': 6, 'n_estimators': 30}\n",
      "0.4623239275150031 {'max_features': 8, 'n_estimators': 3}\n",
      "0.44490100124383125 {'max_features': 8, 'n_estimators': 10}\n",
      "0.43726613849149426 {'max_features': 8, 'n_estimators': 30}\n",
      "0.4754694780200525 {'bootstrap': False, 'max_features': 2, 'n_estimators': 3}\n",
      "0.4707262373220725 {'bootstrap': False, 'max_features': 2, 'n_estimators': 10}\n",
      "0.463475865049793 {'bootstrap': False, 'max_features': 3, 'n_estimators': 3}\n",
      "0.45493966735508523 {'bootstrap': False, 'max_features': 3, 'n_estimators': 10}\n",
      "0.464693254724532 {'bootstrap': False, 'max_features': 4, 'n_estimators': 3}\n",
      "0.4635169527286949 {'bootstrap': False, 'max_features': 4, 'n_estimators': 10}\n"
     ]
    }
   ],
   "source": [
    "rf_model_tuned = get_grid_search_parameters(RandomForestClassifier(), rf_param_grid, X, y)"
   ]
  },
  {
   "cell_type": "code",
   "execution_count": 42,
   "id": "94d3ab9d",
   "metadata": {
    "execution": {
     "iopub.execute_input": "2023-03-24T10:39:56.993545Z",
     "iopub.status.busy": "2023-03-24T10:39:56.993108Z",
     "iopub.status.idle": "2023-03-24T10:39:57.011173Z",
     "shell.execute_reply": "2023-03-24T10:39:57.009668Z"
    },
    "papermill": {
     "duration": 0.044279,
     "end_time": "2023-03-24T10:39:57.013934",
     "exception": false,
     "start_time": "2023-03-24T10:39:56.969655",
     "status": "completed"
    },
    "tags": []
   },
   "outputs": [
    {
     "name": "stdout",
     "output_type": "stream",
     "text": [
      "0.16084702679641408\n"
     ]
    }
   ],
   "source": [
    "rf_tuned_prediction = rf_model_tuned.predict(X)\n",
    "rf_tuned_rmse = rmse(rf_tuned_prediction, y)\n",
    "print(rf_tuned_rmse)"
   ]
  },
  {
   "cell_type": "code",
   "execution_count": 43,
   "id": "cf261505",
   "metadata": {
    "execution": {
     "iopub.execute_input": "2023-03-24T10:39:57.059007Z",
     "iopub.status.busy": "2023-03-24T10:39:57.058593Z",
     "iopub.status.idle": "2023-03-24T10:39:57.064466Z",
     "shell.execute_reply": "2023-03-24T10:39:57.063196Z"
    },
    "papermill": {
     "duration": 0.031647,
     "end_time": "2023-03-24T10:39:57.067160",
     "exception": false,
     "start_time": "2023-03-24T10:39:57.035513",
     "status": "completed"
    },
    "tags": []
   },
   "outputs": [],
   "source": [
    "dt_param_grid = [\n",
    "    {'criterion': ['gini', 'entropy'], 'splitter': ['best', 'random']},\n",
    "    {'max_depth': [2, 4, 8, None], 'min_samples_split': [2, 3]},]"
   ]
  },
  {
   "cell_type": "code",
   "execution_count": 44,
   "id": "be7015b6",
   "metadata": {
    "execution": {
     "iopub.execute_input": "2023-03-24T10:39:57.113178Z",
     "iopub.status.busy": "2023-03-24T10:39:57.112017Z",
     "iopub.status.idle": "2023-03-24T10:39:57.528369Z",
     "shell.execute_reply": "2023-03-24T10:39:57.526927Z"
    },
    "papermill": {
     "duration": 0.442323,
     "end_time": "2023-03-24T10:39:57.531288",
     "exception": false,
     "start_time": "2023-03-24T10:39:57.088965",
     "status": "completed"
    },
    "tags": []
   },
   "outputs": [
    {
     "name": "stdout",
     "output_type": "stream",
     "text": [
      "{'max_depth': 8, 'min_samples_split': 3}\n",
      "0.46831965952514365 {'criterion': 'gini', 'splitter': 'best'}\n",
      "0.49291945903299356 {'criterion': 'gini', 'splitter': 'random'}\n",
      "0.4754628024687676 {'criterion': 'entropy', 'splitter': 'best'}\n",
      "0.48140698169928936 {'criterion': 'entropy', 'splitter': 'random'}\n",
      "0.4766628955862759 {'max_depth': 2, 'min_samples_split': 2}\n",
      "0.4766628955862759 {'max_depth': 2, 'min_samples_split': 3}\n",
      "0.4573680705497019 {'max_depth': 4, 'min_samples_split': 2}\n",
      "0.45859475298347574 {'max_depth': 4, 'min_samples_split': 3}\n",
      "0.43208170275351504 {'max_depth': 8, 'min_samples_split': 2}\n",
      "0.4294807968237321 {'max_depth': 8, 'min_samples_split': 3}\n",
      "0.4683128820570064 {'max_depth': None, 'min_samples_split': 2}\n",
      "0.4622758678240188 {'max_depth': None, 'min_samples_split': 3}\n"
     ]
    }
   ],
   "source": [
    "dt_model_tuned = get_grid_search_parameters(DecisionTreeClassifier(), dt_param_grid, X, y)"
   ]
  },
  {
   "cell_type": "code",
   "execution_count": 45,
   "id": "94f6e849",
   "metadata": {
    "execution": {
     "iopub.execute_input": "2023-03-24T10:39:57.577807Z",
     "iopub.status.busy": "2023-03-24T10:39:57.576599Z",
     "iopub.status.idle": "2023-03-24T10:39:57.586919Z",
     "shell.execute_reply": "2023-03-24T10:39:57.585123Z"
    },
    "papermill": {
     "duration": 0.036379,
     "end_time": "2023-03-24T10:39:57.589675",
     "exception": false,
     "start_time": "2023-03-24T10:39:57.553296",
     "status": "completed"
    },
    "tags": []
   },
   "outputs": [
    {
     "name": "stdout",
     "output_type": "stream",
     "text": [
      "0.3337080758162992\n"
     ]
    }
   ],
   "source": [
    "dt_tuned_prediction = dt_model_tuned.predict(X)\n",
    "dt_tuned_rmse = rmse(dt_tuned_prediction, y)\n",
    "print(dt_tuned_rmse)"
   ]
  },
  {
   "cell_type": "code",
   "execution_count": 46,
   "id": "b4e62d5e",
   "metadata": {
    "execution": {
     "iopub.execute_input": "2023-03-24T10:39:57.635775Z",
     "iopub.status.busy": "2023-03-24T10:39:57.635355Z",
     "iopub.status.idle": "2023-03-24T10:39:57.641278Z",
     "shell.execute_reply": "2023-03-24T10:39:57.639803Z"
    },
    "papermill": {
     "duration": 0.031764,
     "end_time": "2023-03-24T10:39:57.643801",
     "exception": false,
     "start_time": "2023-03-24T10:39:57.612037",
     "status": "completed"
    },
    "tags": []
   },
   "outputs": [],
   "source": [
    "svc_param_grid = [\n",
    "    {'C': [1.0, 2.0, 4.0], 'kernel': ['linear', 'poly', 'rbf']},\n",
    "    {'probability': [True, False], 'decision_function_shape': ['ovo', 'ovr']},]"
   ]
  },
  {
   "cell_type": "code",
   "execution_count": 47,
   "id": "5839517d",
   "metadata": {
    "execution": {
     "iopub.execute_input": "2023-03-24T10:39:57.689796Z",
     "iopub.status.busy": "2023-03-24T10:39:57.688991Z",
     "iopub.status.idle": "2023-03-24T10:40:00.886278Z",
     "shell.execute_reply": "2023-03-24T10:40:00.884794Z"
    },
    "papermill": {
     "duration": 3.223168,
     "end_time": "2023-03-24T10:40:00.888926",
     "exception": false,
     "start_time": "2023-03-24T10:39:57.665758",
     "status": "completed"
    },
    "tags": []
   },
   "outputs": [
    {
     "name": "stdout",
     "output_type": "stream",
     "text": [
      "{'C': 2.0, 'kernel': 'rbf'}\n",
      "0.462303331116354 {'C': 1.0, 'kernel': 'linear'}\n",
      "0.42684917222820645 {'C': 1.0, 'kernel': 'poly'}\n",
      "0.4281558867285561 {'C': 1.0, 'kernel': 'rbf'}\n",
      "0.462303331116354 {'C': 2.0, 'kernel': 'linear'}\n",
      "0.42945862530484497 {'C': 2.0, 'kernel': 'poly'}\n",
      "0.42552352735081544 {'C': 2.0, 'kernel': 'rbf'}\n",
      "0.462303331116354 {'C': 4.0, 'kernel': 'linear'}\n",
      "0.43466704598854283 {'C': 4.0, 'kernel': 'poly'}\n",
      "0.4333872879506295 {'C': 4.0, 'kernel': 'rbf'}\n",
      "0.4281558867285561 {'decision_function_shape': 'ovo', 'probability': True}\n",
      "0.4281558867285561 {'decision_function_shape': 'ovo', 'probability': False}\n",
      "0.4281558867285561 {'decision_function_shape': 'ovr', 'probability': True}\n",
      "0.4281558867285561 {'decision_function_shape': 'ovr', 'probability': False}\n"
     ]
    }
   ],
   "source": [
    "svc_model_tuned = get_grid_search_parameters(svm.SVC(), svc_param_grid, X, y)"
   ]
  },
  {
   "cell_type": "code",
   "execution_count": 48,
   "id": "99699326",
   "metadata": {
    "execution": {
     "iopub.execute_input": "2023-03-24T10:40:00.935233Z",
     "iopub.status.busy": "2023-03-24T10:40:00.934753Z",
     "iopub.status.idle": "2023-03-24T10:40:00.964191Z",
     "shell.execute_reply": "2023-03-24T10:40:00.962873Z"
    },
    "papermill": {
     "duration": 0.055579,
     "end_time": "2023-03-24T10:40:00.966653",
     "exception": false,
     "start_time": "2023-03-24T10:40:00.911074",
     "status": "completed"
    },
    "tags": []
   },
   "outputs": [
    {
     "name": "stdout",
     "output_type": "stream",
     "text": [
      "0.40663783728111363\n"
     ]
    }
   ],
   "source": [
    "svc_tuned_prediction = svc_model_tuned.predict(X)\n",
    "svc_tuned_rmse = rmse(svc_tuned_prediction, y)\n",
    "print(svc_tuned_rmse)"
   ]
  },
  {
   "cell_type": "code",
   "execution_count": 49,
   "id": "efd54035",
   "metadata": {
    "execution": {
     "iopub.execute_input": "2023-03-24T10:40:01.012754Z",
     "iopub.status.busy": "2023-03-24T10:40:01.012344Z",
     "iopub.status.idle": "2023-03-24T10:40:01.033062Z",
     "shell.execute_reply": "2023-03-24T10:40:01.031902Z"
    },
    "papermill": {
     "duration": 0.047666,
     "end_time": "2023-03-24T10:40:01.036372",
     "exception": false,
     "start_time": "2023-03-24T10:40:00.988706",
     "status": "completed"
    },
    "tags": []
   },
   "outputs": [],
   "source": [
    "rf_final_prediction = rf_model_tuned.predict(X_test)\n",
    "result = pd.DataFrame({'passengerId': df_test['PassengerId'], 'Survived': rf_final_prediction})\n",
    "result.head()\n",
    "result.to_csv('/kaggle/working/submission.csv', index=False)"
   ]
  },
  {
   "cell_type": "markdown",
   "id": "0a36e49d",
   "metadata": {
    "papermill": {
     "duration": 0.023003,
     "end_time": "2023-03-24T10:40:01.082488",
     "exception": false,
     "start_time": "2023-03-24T10:40:01.059485",
     "status": "completed"
    },
    "tags": []
   },
   "source": [
    "## Step 7: Present your solution\n",
    "1.\tDocument what you have done.\n",
    "2.\tCreate a nice presentation. \n",
    "    1.\tmake sure you highlight hte big picture first\n",
    "3.\tExplain why your solution achievese the business objective\n",
    "4.\tDon’t forget to present interesting points you noticed along the way. \n",
    "    1.\tDescribe what worked and what did not\n",
    "    2.\tList your assumptions and you system’s limitations\n",
    "5.\tEnsure you key findings aer communicated through beautiful visualizations or easy-to-remember statements (e.g. ‘the median income is the number-one predictior of housing prices’)"
   ]
  },
  {
   "cell_type": "markdown",
   "id": "70991106",
   "metadata": {
    "papermill": {
     "duration": 0.021898,
     "end_time": "2023-03-24T10:40:01.126708",
     "exception": false,
     "start_time": "2023-03-24T10:40:01.104810",
     "status": "completed"
    },
    "tags": []
   },
   "source": [
    "## Step 8: Launch, monitor, and maintain your system \n",
    "1.\tGet your solution ready for production (plug into production data inputs, write unt tests, etc.)\n",
    "2.\tWrite monitoring code to check your system’s live performance at regular intervals and trigger alrts when it drops. \n",
    "    1.\tbeware of slow degradation: models tend to ‘rot’ as data evolves\n",
    "    2.\tMeasuring performance may require a human pipeline (e.g. via a crowdsourcing service)\n",
    "    3.\tAlso monitor your inputs’ quality (e.g. a malfunctioning sensor sending random values, or nother team’s output becoming stale). This is particularly imporant for online learning systems\n",
    "3.\tRetrain your models on a regular basis on fresh data (automate as much as possible).\n"
   ]
  },
  {
   "cell_type": "code",
   "execution_count": null,
   "id": "96156463",
   "metadata": {
    "papermill": {
     "duration": 0.02202,
     "end_time": "2023-03-24T10:40:01.170775",
     "exception": false,
     "start_time": "2023-03-24T10:40:01.148755",
     "status": "completed"
    },
    "tags": []
   },
   "outputs": [],
   "source": []
  }
 ],
 "metadata": {
  "kernelspec": {
   "display_name": "Python 3",
   "language": "python",
   "name": "python3"
  },
  "language_info": {
   "codemirror_mode": {
    "name": "ipython",
    "version": 3
   },
   "file_extension": ".py",
   "mimetype": "text/x-python",
   "name": "python",
   "nbconvert_exporter": "python",
   "pygments_lexer": "ipython3",
   "version": "3.7.12"
  },
  "papermill": {
   "default_parameters": {},
   "duration": 33.487214,
   "end_time": "2023-03-24T10:40:02.117192",
   "environment_variables": {},
   "exception": null,
   "input_path": "__notebook__.ipynb",
   "output_path": "__notebook__.ipynb",
   "parameters": {},
   "start_time": "2023-03-24T10:39:28.629978",
   "version": "2.4.0"
  }
 },
 "nbformat": 4,
 "nbformat_minor": 5
}
