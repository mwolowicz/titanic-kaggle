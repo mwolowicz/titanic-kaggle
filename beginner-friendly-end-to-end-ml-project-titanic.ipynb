{
 "cells": [
  {
   "cell_type": "markdown",
   "id": "23263fcc",
   "metadata": {
    "papermill": {
     "duration": 0.005638,
     "end_time": "2023-03-19T17:45:48.189710",
     "exception": false,
     "start_time": "2023-03-19T17:45:48.184072",
     "status": "completed"
    },
    "tags": []
   },
   "source": [
    "# End-to-end ML project walkthrough: Titanic\n",
    "\n",
    "The goal of this notebook is to build an end-to-end Machine Learning project and outline core steps in building and training machine learning model.\n",
    "\n",
    "## Machine Learning Project Checklist\n",
    "> This list is based on a list available in ['Hands-On Machine Learning with scikit-learn, TensorFlow and Keras'](https://www.oreilly.com/library/view/hands-on-machine-learning/9781492032632/) by Aurelien Geron.\n",
    "1. Frame the problem and look at the big picture \n",
    "2. Get the data\n",
    "3. Explore the data to gain insights\n",
    "4. Prepare the data to better expose the underlying data patterns to Machine Learning algorithms\n",
    "5. Explore many different models and find the best ones.\n",
    "6. Fine-tune your models and combine them (ensamble models) into a great solution.\n",
    "7. Present your solution\n",
    "8. Launch, monitor and maintain your system"
   ]
  },
  {
   "cell_type": "code",
   "execution_count": 1,
   "id": "5a748c37",
   "metadata": {
    "_cell_guid": "b1076dfc-b9ad-4769-8c92-a6c4dae69d19",
    "_uuid": "8f2839f25d086af736a60e9eeb907d3b93b6e0e5",
    "execution": {
     "iopub.execute_input": "2023-03-19T17:45:48.201279Z",
     "iopub.status.busy": "2023-03-19T17:45:48.200747Z",
     "iopub.status.idle": "2023-03-19T17:45:49.525446Z",
     "shell.execute_reply": "2023-03-19T17:45:49.523886Z"
    },
    "papermill": {
     "duration": 1.334007,
     "end_time": "2023-03-19T17:45:49.528368",
     "exception": false,
     "start_time": "2023-03-19T17:45:48.194361",
     "status": "completed"
    },
    "tags": []
   },
   "outputs": [
    {
     "name": "stdout",
     "output_type": "stream",
     "text": [
      "/kaggle/input/titanic/train.csv\n",
      "/kaggle/input/titanic/test.csv\n",
      "/kaggle/input/titanic/gender_submission.csv\n"
     ]
    }
   ],
   "source": [
    "# This Python 3 environment comes with many helpful analytics libraries installed\n",
    "# It is defined by the kaggle/python Docker image: https://github.com/kaggle/docker-python\n",
    "# For example, here's several helpful packages to load\n",
    "\n",
    "import numpy as np # linear algebra\n",
    "import pandas as pd # data processing, CSV file I/O (e.g. pd.read_csv)\n",
    "import matplotlib.pyplot as plt\n",
    "import seaborn as sns\n",
    "# Input data files are available in the read-only \"../input/\" directory\n",
    "# For example, running this (by clicking run or pressing Shift+Enter) will list all files under the input directory\n",
    "\n",
    "import os\n",
    "for dirname, _, filenames in os.walk('/kaggle/input'):\n",
    "    for filename in filenames:\n",
    "        print(os.path.join(dirname, filename))\n",
    "\n",
    "# You can write up to 20GB to the current directory (/kaggle/working/) that gets preserved as output when you create a version using \"Save & Run All\" \n",
    "# You can also write temporary files to /kaggle/temp/, but they won't be saved outside of the current session"
   ]
  },
  {
   "cell_type": "markdown",
   "id": "67c23a2b",
   "metadata": {
    "papermill": {
     "duration": 0.004148,
     "end_time": "2023-03-19T17:45:49.537244",
     "exception": false,
     "start_time": "2023-03-19T17:45:49.533096",
     "status": "completed"
    },
    "tags": []
   },
   "source": [
    "## Step 1: Frame the Problem and look at big picture\n",
    "1.\tDefine the objective in business terms\n",
    "2.\tHow will your solution be used?\n",
    "3.\tWhat are the current solutions/workarounds (if any)?\n",
    "4.\tHow should you frame this problem (supervised/unsupervised, online/offline, etc.)?\n",
    "5.\tHow should performance be measured?\n",
    "6.\tIs the performance measure aligned with the business objective?\n",
    "7.\tWhat would be the minimum performance needed to reach the business objective?\n",
    "8.\tWhat are comparable problems? Can you reuse experience or tools?\n",
    "9.\tIs human expertise available?\n",
    "10.\tHow would you solve the problem manually?\n",
    "11.\tList the assumptions you (or others) have made so far.\n",
    "12.\tVerify assumptions if possible.\n"
   ]
  },
  {
   "cell_type": "markdown",
   "id": "2089f8e3",
   "metadata": {
    "papermill": {
     "duration": 0.004139,
     "end_time": "2023-03-19T17:45:49.545777",
     "exception": false,
     "start_time": "2023-03-19T17:45:49.541638",
     "status": "completed"
    },
    "tags": []
   },
   "source": [
    "## Step 2: Get the data\n",
    "**NOTE:** Automate as much as possible so you can easily get fresh data\n",
    "1.\tList the data you need and how much you need.\n",
    "2.\tFind and document where you can get that data.\n",
    "3.\tCheck how much space it will take.\n",
    "4.\tCheck legal obligations, and get authorization if necessary.\n",
    "5.\tGet access authorizations.\n",
    "6.\tCreate a workspace (with enough storage space).\n",
    "7.\tGet the data.\n",
    "8.\tConvert the data to a format you can easily manipulate (without changing the data itself).\n",
    "9.\tEnsure sensitive informatio nis deleted or protected (e.g., anonymized)\n",
    "10.\tCheck the size and type of data (time series, sample, geographical, etc.).\n",
    "11.\tSample a test set, put it aside, and never look at it (no data snooping!)\n"
   ]
  },
  {
   "cell_type": "code",
   "execution_count": 2,
   "id": "fb3c7a30",
   "metadata": {
    "execution": {
     "iopub.execute_input": "2023-03-19T17:45:49.556827Z",
     "iopub.status.busy": "2023-03-19T17:45:49.556362Z",
     "iopub.status.idle": "2023-03-19T17:45:49.587988Z",
     "shell.execute_reply": "2023-03-19T17:45:49.586774Z"
    },
    "papermill": {
     "duration": 0.040884,
     "end_time": "2023-03-19T17:45:49.590977",
     "exception": false,
     "start_time": "2023-03-19T17:45:49.550093",
     "status": "completed"
    },
    "tags": []
   },
   "outputs": [],
   "source": [
    "df = pd.read_csv(\"/kaggle/input/titanic/train.csv\")\n",
    "df_test = pd.read_csv(\"/kaggle/input/titanic/test.csv\")"
   ]
  },
  {
   "cell_type": "code",
   "execution_count": 3,
   "id": "666b2409",
   "metadata": {
    "execution": {
     "iopub.execute_input": "2023-03-19T17:45:49.602178Z",
     "iopub.status.busy": "2023-03-19T17:45:49.601786Z",
     "iopub.status.idle": "2023-03-19T17:45:49.638142Z",
     "shell.execute_reply": "2023-03-19T17:45:49.636780Z"
    },
    "papermill": {
     "duration": 0.04513,
     "end_time": "2023-03-19T17:45:49.640743",
     "exception": false,
     "start_time": "2023-03-19T17:45:49.595613",
     "status": "completed"
    },
    "tags": []
   },
   "outputs": [
    {
     "data": {
      "text/html": [
       "<div>\n",
       "<style scoped>\n",
       "    .dataframe tbody tr th:only-of-type {\n",
       "        vertical-align: middle;\n",
       "    }\n",
       "\n",
       "    .dataframe tbody tr th {\n",
       "        vertical-align: top;\n",
       "    }\n",
       "\n",
       "    .dataframe thead th {\n",
       "        text-align: right;\n",
       "    }\n",
       "</style>\n",
       "<table border=\"1\" class=\"dataframe\">\n",
       "  <thead>\n",
       "    <tr style=\"text-align: right;\">\n",
       "      <th></th>\n",
       "      <th>PassengerId</th>\n",
       "      <th>Survived</th>\n",
       "      <th>Pclass</th>\n",
       "      <th>Name</th>\n",
       "      <th>Sex</th>\n",
       "      <th>Age</th>\n",
       "      <th>SibSp</th>\n",
       "      <th>Parch</th>\n",
       "      <th>Ticket</th>\n",
       "      <th>Fare</th>\n",
       "      <th>Cabin</th>\n",
       "      <th>Embarked</th>\n",
       "    </tr>\n",
       "  </thead>\n",
       "  <tbody>\n",
       "    <tr>\n",
       "      <th>0</th>\n",
       "      <td>1</td>\n",
       "      <td>0</td>\n",
       "      <td>3</td>\n",
       "      <td>Braund, Mr. Owen Harris</td>\n",
       "      <td>male</td>\n",
       "      <td>22.0</td>\n",
       "      <td>1</td>\n",
       "      <td>0</td>\n",
       "      <td>A/5 21171</td>\n",
       "      <td>7.2500</td>\n",
       "      <td>NaN</td>\n",
       "      <td>S</td>\n",
       "    </tr>\n",
       "    <tr>\n",
       "      <th>1</th>\n",
       "      <td>2</td>\n",
       "      <td>1</td>\n",
       "      <td>1</td>\n",
       "      <td>Cumings, Mrs. John Bradley (Florence Briggs Th...</td>\n",
       "      <td>female</td>\n",
       "      <td>38.0</td>\n",
       "      <td>1</td>\n",
       "      <td>0</td>\n",
       "      <td>PC 17599</td>\n",
       "      <td>71.2833</td>\n",
       "      <td>C85</td>\n",
       "      <td>C</td>\n",
       "    </tr>\n",
       "    <tr>\n",
       "      <th>2</th>\n",
       "      <td>3</td>\n",
       "      <td>1</td>\n",
       "      <td>3</td>\n",
       "      <td>Heikkinen, Miss. Laina</td>\n",
       "      <td>female</td>\n",
       "      <td>26.0</td>\n",
       "      <td>0</td>\n",
       "      <td>0</td>\n",
       "      <td>STON/O2. 3101282</td>\n",
       "      <td>7.9250</td>\n",
       "      <td>NaN</td>\n",
       "      <td>S</td>\n",
       "    </tr>\n",
       "    <tr>\n",
       "      <th>3</th>\n",
       "      <td>4</td>\n",
       "      <td>1</td>\n",
       "      <td>1</td>\n",
       "      <td>Futrelle, Mrs. Jacques Heath (Lily May Peel)</td>\n",
       "      <td>female</td>\n",
       "      <td>35.0</td>\n",
       "      <td>1</td>\n",
       "      <td>0</td>\n",
       "      <td>113803</td>\n",
       "      <td>53.1000</td>\n",
       "      <td>C123</td>\n",
       "      <td>S</td>\n",
       "    </tr>\n",
       "    <tr>\n",
       "      <th>4</th>\n",
       "      <td>5</td>\n",
       "      <td>0</td>\n",
       "      <td>3</td>\n",
       "      <td>Allen, Mr. William Henry</td>\n",
       "      <td>male</td>\n",
       "      <td>35.0</td>\n",
       "      <td>0</td>\n",
       "      <td>0</td>\n",
       "      <td>373450</td>\n",
       "      <td>8.0500</td>\n",
       "      <td>NaN</td>\n",
       "      <td>S</td>\n",
       "    </tr>\n",
       "  </tbody>\n",
       "</table>\n",
       "</div>"
      ],
      "text/plain": [
       "   PassengerId  Survived  Pclass  \\\n",
       "0            1         0       3   \n",
       "1            2         1       1   \n",
       "2            3         1       3   \n",
       "3            4         1       1   \n",
       "4            5         0       3   \n",
       "\n",
       "                                                Name     Sex   Age  SibSp  \\\n",
       "0                            Braund, Mr. Owen Harris    male  22.0      1   \n",
       "1  Cumings, Mrs. John Bradley (Florence Briggs Th...  female  38.0      1   \n",
       "2                             Heikkinen, Miss. Laina  female  26.0      0   \n",
       "3       Futrelle, Mrs. Jacques Heath (Lily May Peel)  female  35.0      1   \n",
       "4                           Allen, Mr. William Henry    male  35.0      0   \n",
       "\n",
       "   Parch            Ticket     Fare Cabin Embarked  \n",
       "0      0         A/5 21171   7.2500   NaN        S  \n",
       "1      0          PC 17599  71.2833   C85        C  \n",
       "2      0  STON/O2. 3101282   7.9250   NaN        S  \n",
       "3      0            113803  53.1000  C123        S  \n",
       "4      0            373450   8.0500   NaN        S  "
      ]
     },
     "execution_count": 3,
     "metadata": {},
     "output_type": "execute_result"
    }
   ],
   "source": [
    "df.head(5)"
   ]
  },
  {
   "cell_type": "markdown",
   "id": "5c9defa7",
   "metadata": {
    "papermill": {
     "duration": 0.004599,
     "end_time": "2023-03-19T17:45:49.650442",
     "exception": false,
     "start_time": "2023-03-19T17:45:49.645843",
     "status": "completed"
    },
    "tags": []
   },
   "source": [
    "## Step 3: Explore the data to gain insights\n",
    "**NOTE:** try to get insights from a field exper for these steps\n",
    "1.\tCreate a copy of the data for exploration (sampling it down to a managable size if necessary).\n",
    "2.\tCreate a Jupyter notebook to keep a record of your data exploration.\n",
    "3.\tStudy each attribute and its characteristics: \n",
    "1.\tname\n",
    "2.\tType (categorical, int/float, bounded/unbounded, text, structured, etc.)\n",
    "3.\t% of missing values\n",
    "4.\tNoisiness and type of noise (stochastic, outliers, rounding errors, etc.)\n",
    "5.\tUsefulness for the task\n",
    "6.\tType of distribution (Gaussian, uniform, logarithmic, etc.)\n",
    "4.\tFor supervised learning tasks, identify the target attribute(s).\n",
    "5.\tVisualize the data.\n",
    "6.\tStudy the correlations between attributes.\n",
    "7.\tStudy how you would solve the problem manually\n",
    "8.\tIdentify the promising transformations you may want to apply.\n",
    "9.\tIdentify extra data that would be useful (go back to ‘Get the data’ step).\n",
    "10.\t***Document what you have learned***.\n"
   ]
  },
  {
   "cell_type": "code",
   "execution_count": 4,
   "id": "9ea2e756",
   "metadata": {
    "execution": {
     "iopub.execute_input": "2023-03-19T17:45:49.662539Z",
     "iopub.status.busy": "2023-03-19T17:45:49.661675Z",
     "iopub.status.idle": "2023-03-19T17:45:49.959494Z",
     "shell.execute_reply": "2023-03-19T17:45:49.958523Z"
    },
    "papermill": {
     "duration": 0.306488,
     "end_time": "2023-03-19T17:45:49.961801",
     "exception": false,
     "start_time": "2023-03-19T17:45:49.655313",
     "status": "completed"
    },
    "tags": []
   },
   "outputs": [
    {
     "data": {
      "text/plain": [
       "<AxesSubplot:>"
      ]
     },
     "execution_count": 4,
     "metadata": {},
     "output_type": "execute_result"
    },
    {
     "data": {
      "image/png": "[encoded data removed]",
      "text/plain": [
       "<Figure size 640x480 with 1 Axes>"
      ]
     },
     "metadata": {},
     "output_type": "display_data"
    }
   ],
   "source": [
    "df.Survived.value_counts().plot(kind='bar')"
   ]
  },
  {
   "cell_type": "code",
   "execution_count": 5,
   "id": "d60e10ab",
   "metadata": {
    "execution": {
     "iopub.execute_input": "2023-03-19T17:45:49.974958Z",
     "iopub.status.busy": "2023-03-19T17:45:49.974103Z",
     "iopub.status.idle": "2023-03-19T17:45:50.137195Z",
     "shell.execute_reply": "2023-03-19T17:45:50.136004Z"
    },
    "papermill": {
     "duration": 0.172938,
     "end_time": "2023-03-19T17:45:50.140053",
     "exception": false,
     "start_time": "2023-03-19T17:45:49.967115",
     "status": "completed"
    },
    "tags": []
   },
   "outputs": [
    {
     "data": {
      "text/plain": [
       "(array([577.,   0.,   0.,   0.,   0.,   0.,   0.,   0.,   0., 314.]),\n",
       " array([0. , 0.1, 0.2, 0.3, 0.4, 0.5, 0.6, 0.7, 0.8, 0.9, 1. ]),\n",
       " <BarContainer object of 10 artists>)"
      ]
     },
     "execution_count": 5,
     "metadata": {},
     "output_type": "execute_result"
    },
    {
     "data": {
      "image/png": "[encoded data removed]",
      "text/plain": [
       "<Figure size 640x480 with 1 Axes>"
      ]
     },
     "metadata": {},
     "output_type": "display_data"
    }
   ],
   "source": [
    "plt.hist(df['Sex'])"
   ]
  },
  {
   "cell_type": "code",
   "execution_count": 6,
   "id": "6a3b59f4",
   "metadata": {
    "execution": {
     "iopub.execute_input": "2023-03-19T17:45:50.153640Z",
     "iopub.status.busy": "2023-03-19T17:45:50.153170Z",
     "iopub.status.idle": "2023-03-19T17:45:52.211447Z",
     "shell.execute_reply": "2023-03-19T17:45:52.209075Z"
    },
    "papermill": {
     "duration": 2.069421,
     "end_time": "2023-03-19T17:45:52.215372",
     "exception": false,
     "start_time": "2023-03-19T17:45:50.145951",
     "status": "completed"
    },
    "tags": []
   },
   "outputs": [
    {
     "data": {
      "text/plain": [
       "<BarContainer object of 891 artists>"
      ]
     },
     "execution_count": 6,
     "metadata": {},
     "output_type": "execute_result"
    },
    {
     "data": {
      "image/png": "[encoded data removed]",
      "text/plain": [
       "<Figure size 640x480 with 1 Axes>"
      ]
     },
     "metadata": {},
     "output_type": "display_data"
    }
   ],
   "source": [
    "plt.bar(df['Pclass'], np.mean(df['Fare']))"
   ]
  },
  {
   "cell_type": "code",
   "execution_count": 7,
   "id": "673ef6fd",
   "metadata": {
    "execution": {
     "iopub.execute_input": "2023-03-19T17:45:52.230839Z",
     "iopub.status.busy": "2023-03-19T17:45:52.230061Z",
     "iopub.status.idle": "2023-03-19T17:45:53.551940Z",
     "shell.execute_reply": "2023-03-19T17:45:53.550248Z"
    },
    "papermill": {
     "duration": 1.333722,
     "end_time": "2023-03-19T17:45:53.555362",
     "exception": false,
     "start_time": "2023-03-19T17:45:52.221640",
     "status": "completed"
    },
    "tags": []
   },
   "outputs": [
    {
     "data": {
      "text/plain": [
       "<AxesSubplot:>"
      ]
     },
     "execution_count": 7,
     "metadata": {},
     "output_type": "execute_result"
    },
    {
     "data": {
      "image/png": "[encoded data removed]",
      "text/plain": [
       "<Figure size 640x480 with 1 Axes>"
      ]
     },
     "metadata": {},
     "output_type": "display_data"
    }
   ],
   "source": [
    "from sklearn.ensemble import RandomForestClassifier\n",
    "\n",
    "y = df[\"Survived\"]\n",
    "\n",
    "features = [\"Pclass\", \"Sex\", \"SibSp\", \"Parch\"]\n",
    "X = pd.get_dummies(df[features])\n",
    "X_test = pd.get_dummies(df_test[features])\n",
    "\n",
    "model = RandomForestClassifier(n_estimators=200, max_depth=8, random_state=1)\n",
    "model.fit(X, y)\n",
    "predictions = model.predict(X_test)\n",
    "\n",
    "output = pd.DataFrame({'PassengerId': df_test.PassengerId, 'Survived': predictions})\n",
    "output.Survived.value_counts().plot(kind='bar')\n",
    "#output.to_csv('submission.csv', index=False)\n",
    "#print(\"Your submission was successfully saved!\")"
   ]
  },
  {
   "cell_type": "markdown",
   "id": "3f7d10cf",
   "metadata": {
    "papermill": {
     "duration": 0.006239,
     "end_time": "2023-03-19T17:45:53.568343",
     "exception": false,
     "start_time": "2023-03-19T17:45:53.562104",
     "status": "completed"
    },
    "tags": []
   },
   "source": [
    "## Step 4: Prepare the data to better expose the underlying data patterns to Machine Learning algorithms \n",
    "**NOTES** \n",
    "1.\twork on copies of the data (keep the original dataset intact)\n",
    "2.\twrite functions for all data transformations you apply, for five reasons \n",
    "    1.\tso you can easily prepare the data enxt time you get a fresh dataset\n",
    "    2.\tso you can apply these transformations in future projects\n",
    "    3.\tto clean and prepare the test set\n",
    "    4.\tto clean and prepare new data isntances once your solution is live\n",
    "    5.\tto make it easy to treat your preparation choices as hyperparameters\n",
    "---\n",
    "1.\tData cleaning \n",
    "    1.\tfix or remove outliers (optional)\n",
    "2.\tfill in missing values (e.g. with zero, mean, median…) or drop their rows (or columns).\n",
    "    2.\tFeature selection (optional): \n",
    "    1.\tDrop the attributes that proved no useful information for the task.\n",
    "3.\tFeature engineering, where appropirate: \n",
    "    1.\tDiscretize continuous features\n",
    "    2.\tdecompose features (e.g. categorical ,date/time, etc.).\n",
    "    3.\tAdd promising transformations of features (e.g. log(x), sqrt(x) etc.)\n",
    "    4.\taggregate features into promising new features\n",
    "4.\tFeature scaling \n",
    "    1.\tstandardize or normalize features\n"
   ]
  },
  {
   "cell_type": "markdown",
   "id": "80925ea7",
   "metadata": {
    "papermill": {
     "duration": 0.006069,
     "end_time": "2023-03-19T17:45:53.581036",
     "exception": false,
     "start_time": "2023-03-19T17:45:53.574967",
     "status": "completed"
    },
    "tags": []
   },
   "source": [
    "## Step 5: Explore many different models and shortlist the best ones \n",
    "**NOTES**\n",
    "1.\tif the data is huge, you may want to sample smaller training sets so you can train many different models in a reasonable time (be aware that this penalizes complex models such as large neural nets or Random Forests).\n",
    "2.\tonce again, try to automate these steps as much as possible\n",
    "---\n",
    "1.\ttrain many quick-and-dirty models from different cateogires (e.g. linear, naive Bayes, SVM, Random Forest, neural net, etc.) using standard parameters.\n",
    "2.\tMeasure and compare their perfomance \n",
    "    1.\tfoe each model, use n-fold cross-validation and compute the mean and standard deviation of the peformance measure on the N folds\n",
    "3.\tAnalyze the most significant variables for each algorithm\n",
    "4.\tAnalyse the types of erros the models make \n",
    "    1.\tWhat data would a human have used to avoid these errors?\n",
    "5.\tPerform a quick round of feature selection and engineering.\n",
    "6.\tPerform one or two more quick iterations of the five previous steps.\n",
    "7.\tShortlist the top three to five most promising models, preferring models that make different types of errors,"
   ]
  },
  {
   "cell_type": "markdown",
   "id": "fc776ed3",
   "metadata": {
    "papermill": {
     "duration": 0.006194,
     "end_time": "2023-03-19T17:45:53.594156",
     "exception": false,
     "start_time": "2023-03-19T17:45:53.587962",
     "status": "completed"
    },
    "tags": []
   },
   "source": [
    "## Step 6: Fine-tune your models and combine them into a great solution \n",
    "**NOTES**\n",
    "1.\tyou will want to use as much data as possible for this stope, especially as you move toward the end of fine-tuning\n",
    "2.\tas always, automate what you can\n",
    "\n",
    "***WARNING***\n",
    "1.\tdon’t tweak your model after measuring the generalization error: yoou would just start overfitting the test set.\n",
    "\n",
    "---\n",
    "1.\tfine-tune the hyperparameters using cross-validation: \n",
    "1.\ttreat your data transformation choises as hyperparameters, especially when you are not sure about them (e.g. if you’re not sure whetehr to replace missing values with zeros or with the median value, or to just drop the rows)\n",
    "2.\tunless there are very few hyperparameter value to explore, prefere random seach over grid search. If training is very long, you may prefere a Bayesian optimization approach (e.g. using Gaussian process priors, as described by Jasper Snoes et al.) - https://arxiv.org/abs/1206.2944\n",
    "2.\tTry Ensemble methods. Combining your best models will often produce better performance than running them individually.\n",
    "3.\tOnce you are confident about your final model, measure its performance on the tes set to estimate the generalization error.\n"
   ]
  },
  {
   "cell_type": "markdown",
   "id": "b447b8a9",
   "metadata": {
    "papermill": {
     "duration": 0.005943,
     "end_time": "2023-03-19T17:45:53.606429",
     "exception": false,
     "start_time": "2023-03-19T17:45:53.600486",
     "status": "completed"
    },
    "tags": []
   },
   "source": [
    "## Step 7: Present your solution\n",
    "1.\tDocument what you have done.\n",
    "2.\tCreate a nice presentation. \n",
    "    1.\tmake sure you highlight hte big picture first\n",
    "3.\tExplain why your solution achievese the business objective\n",
    "4.\tDon’t forget to present interesting points you noticed along the way. \n",
    "    1.\tDescribe what worked and what did not\n",
    "    2.\tList your assumptions and you system’s limitations\n",
    "5.\tEnsure you key findings aer communicated through beautiful visualizations or easy-to-remember statements (e.g. ‘the median income is the number-one predictior of housing prices’)"
   ]
  },
  {
   "cell_type": "markdown",
   "id": "29c2606d",
   "metadata": {
    "papermill": {
     "duration": 0.006721,
     "end_time": "2023-03-19T17:45:53.619741",
     "exception": false,
     "start_time": "2023-03-19T17:45:53.613020",
     "status": "completed"
    },
    "tags": []
   },
   "source": [
    "## Step 8: Launch, monitor, and maintain your system \n",
    "1.\tGet your solution ready for production (plug into production data inputs, write unt tests, etc.)\n",
    "2.\tWrite monitoring code to check your system’s live performance at regular intervals and trigger alrts when it drops. \n",
    "    1.\tbeware of slow degradation: models tend to ‘rot’ as data evolves\n",
    "    2.\tMeasuring performance may require a human pipeline (e.g. via a crowdsourcing service)\n",
    "    3.\tAlso monitor your inputs’ quality (e.g. a malfunctioning sensor sending random values, or nother team’s output becoming stale). This is particularly imporant for online learning systems\n",
    "3.\tRetrain your models on a regular basis on fresh data (automate as much as possible).\n"
   ]
  },
  {
   "cell_type": "code",
   "execution_count": null,
   "id": "ef2b0459",
   "metadata": {
    "papermill": {
     "duration": 0.005959,
     "end_time": "2023-03-19T17:45:53.632061",
     "exception": false,
     "start_time": "2023-03-19T17:45:53.626102",
     "status": "completed"
    },
    "tags": []
   },
   "outputs": [],
   "source": []
  }
 ],
 "metadata": {
  "kernelspec": {
   "display_name": "Python 3",
   "language": "python",
   "name": "python3"
  },
  "language_info": {
   "codemirror_mode": {
    "name": "ipython",
    "version": 3
   },
   "file_extension": ".py",
   "mimetype": "text/x-python",
   "name": "python",
   "nbconvert_exporter": "python",
   "pygments_lexer": "ipython3",
   "version": "3.7.12"
  },
  "papermill": {
   "default_parameters": {},
   "duration": 19.301574,
   "end_time": "2023-03-19T17:45:54.563146",
   "environment_variables": {},
   "exception": null,
   "input_path": "__notebook__.ipynb",
   "output_path": "__notebook__.ipynb",
   "parameters": {},
   "start_time": "2023-03-19T17:45:35.261572",
   "version": "2.4.0"
  }
 },
 "nbformat": 4,
 "nbformat_minor": 5
}
